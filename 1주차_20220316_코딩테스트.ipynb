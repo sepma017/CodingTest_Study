{
  "nbformat": 4,
  "nbformat_minor": 0,
  "metadata": {
    "colab": {
      "name": "1주차_20220316_코딩테스트.ipynb",
      "provenance": [],
      "collapsed_sections": [],
      "authorship_tag": "ABX9TyNrRTF5tnOAwXFfWPQJY6xC",
      "include_colab_link": true
    },
    "kernelspec": {
      "name": "python3",
      "display_name": "Python 3"
    },
    "language_info": {
      "name": "python"
    }
  },
  "cells": [
    {
      "cell_type": "markdown",
      "metadata": {
        "id": "view-in-github",
        "colab_type": "text"
      },
      "source": [
        "<a href=\"https://colab.research.google.com/github/sepma017/CodingTest_Study/blob/master/1%EC%A3%BC%EC%B0%A8_20220316_%EC%BD%94%EB%94%A9%ED%85%8C%EC%8A%A4%ED%8A%B8.ipynb\" target=\"_parent\"><img src=\"https://colab.research.google.com/assets/colab-badge.svg\" alt=\"Open In Colab\"/></a>"
      ]
    },
    {
      "cell_type": "markdown",
      "source": [
        "- 튜플 자료형\n",
        "    - 리스트와 거의 비슷하다.\n",
        "    - 차이점 \n",
        "        - 튜플은 한 번 선언된 값을 변경할 수 없다.\n",
        "        - 리스트는 대괄호([])를 이용하지만, 튜플은 소괄호(())를 이용한다."
      ],
      "metadata": {
        "id": "Aguaw0N4tGEz"
      }
    },
    {
      "cell_type": "code",
      "execution_count": null,
      "metadata": {
        "colab": {
          "base_uri": "https://localhost:8080/",
          "height": 229
        },
        "id": "boBe0piRtADV",
        "outputId": "78867feb-694e-446a-e1bd-46b217c0a7bb"
      },
      "outputs": [
        {
          "output_type": "stream",
          "name": "stdout",
          "text": [
            "(1, 2, 3, 4)\n"
          ]
        },
        {
          "output_type": "error",
          "ename": "TypeError",
          "evalue": "ignored",
          "traceback": [
            "\u001b[0;31m---------------------------------------------------------------------------\u001b[0m",
            "\u001b[0;31mTypeError\u001b[0m                                 Traceback (most recent call last)",
            "\u001b[0;32m<ipython-input-1-fa3b14a6dfc1>\u001b[0m in \u001b[0;36m<module>\u001b[0;34m()\u001b[0m\n\u001b[1;32m      2\u001b[0m \u001b[0mprint\u001b[0m\u001b[0;34m(\u001b[0m\u001b[0ma\u001b[0m\u001b[0;34m)\u001b[0m\u001b[0;34m\u001b[0m\u001b[0;34m\u001b[0m\u001b[0m\n\u001b[1;32m      3\u001b[0m \u001b[0;34m\u001b[0m\u001b[0m\n\u001b[0;32m----> 4\u001b[0;31m \u001b[0ma\u001b[0m\u001b[0;34m[\u001b[0m\u001b[0;36m2\u001b[0m\u001b[0;34m]\u001b[0m \u001b[0;34m=\u001b[0m \u001b[0;36m7\u001b[0m\u001b[0;34m\u001b[0m\u001b[0;34m\u001b[0m\u001b[0m\n\u001b[0m",
            "\u001b[0;31mTypeError\u001b[0m: 'tuple' object does not support item assignment"
          ]
        }
      ],
      "source": [
        "a = (1, 2, 3, 4)\n",
        "print(a)\n",
        "\n",
        "a[2] = 7"
      ]
    },
    {
      "cell_type": "markdown",
      "source": [
        "튜플값은 원소의 대입(Item Assignment)이 불가능하다. (특정한 값을 변경 불가) => 그래프 알고리즘 구현할 때 자주 사용 \n",
        "- 예) 최단 경로 알고리즘 문제의 경우 알고리즘 내부에 우선순위 큐를 이용할 때 큐에 들어갈 데이터를 튜플로 작성한다."
      ],
      "metadata": {
        "id": "Lmaim4YLvS4X"
      }
    },
    {
      "cell_type": "markdown",
      "source": [
        "튜플은 리스트에 비해 상대적으로 공간 효율적이다. => 일반적으로 각 원소의 성질이 다를 때 주로 사용한다.\n",
        "- 예) 최단 경로 알고리즘에서 '비용'과 '노드번호'를 튜플로 묶어서 관리  (비용, 노드번호)"
      ],
      "metadata": {
        "id": "CvQo9dSgwEBT"
      }
    },
    {
      "cell_type": "markdown",
      "source": [
        "사전 자료형\n",
        "- 키(key)와 값(value)의 쌍을 데이터로 가지는 자료형.\n",
        "- 변경 불가능한 데이터를 키로 사용할 수 있다. (예: 튜플 자료형이 사전 자료형의 키로 사용되기도 함. 'Q22 블록 이동하기'문제풀이)\n",
        "- 사전 자료형이 사용되는 대표적인 예시는 사전(Dictionary)이다.\n",
        "- 사전 자료형은 내부적으로 '해시 테이블(Hash Table)' 이용 => 데이터의 검색 및 수정에서  O(1)의 시간에 처리가능"
      ],
      "metadata": {
        "id": "CJjfh6QCwewx"
      }
    },
    {
      "cell_type": "code",
      "source": [
        "data = dict()\n",
        "data['사과'] = 'Apple'\n",
        "data['바나나'] = 'Banana'\n",
        "data['코코넛'] = 'Coconut'\n",
        "\n",
        "print(data)"
      ],
      "metadata": {
        "colab": {
          "base_uri": "https://localhost:8080/"
        },
        "id": "G5PdStGitcLQ",
        "outputId": "2e202d39-1cb5-4683-a75a-a28511039379"
      },
      "execution_count": null,
      "outputs": [
        {
          "output_type": "stream",
          "name": "stdout",
          "text": [
            "{'사과': 'Apple', '바나나': 'Banana', '코코넛': 'Coconut'}\n"
          ]
        }
      ]
    },
    {
      "cell_type": "markdown",
      "source": [
        "- 예를 들어 1000만개의 데이터 중 10000개를 담을 때 리스트는 1000만개의 데이터를 담아야 하므로 많은 메모리 공간을 낭비하게 되는데, 사전 자료형은 10000개의 데이터만 담으면 됨 => 훨씬 메모리 공간을 적게 쓰고 문제 풀이가 간결해 짐."
      ],
      "metadata": {
        "id": "lvhD3y8jx3zO"
      }
    },
    {
      "cell_type": "markdown",
      "source": [
        "- 사전 자료형에 특정한 원소가 있는지 검사할 때 => '원소 in 사전' 형태로 사용가능.(이는 리스트, 튜플에도 가능)\n",
        "- iterable 자료형 : 리스트, 문자열, 튜플 등 순차적인 정보를 담는 자료형. in 문법은 iterable 자료형에 모두 사용 가능"
      ],
      "metadata": {
        "id": "d_UZzzpoy3FN"
      }
    },
    {
      "cell_type": "code",
      "source": [
        "if '사과' in data:\n",
        "    print(\"'사과'를 키로 가지는 데이터가 존재합니다.\")"
      ],
      "metadata": {
        "colab": {
          "base_uri": "https://localhost:8080/"
        },
        "id": "FvJ-KsgYxiqC",
        "outputId": "732b752a-987b-4819-9575-e53bc2b1cd31"
      },
      "execution_count": null,
      "outputs": [
        {
          "output_type": "stream",
          "name": "stdout",
          "text": [
            "'사과'를 키로 가지는 데이터가 존재합니다.\n"
          ]
        }
      ]
    },
    {
      "cell_type": "markdown",
      "source": [
        "- 사전 자료형 관련 함수\n",
        "    - keys() : 키 데이터만 뽑아서 리스트로 이용\n",
        "    - values() : 값 데이터만 뽑아서 리스트로 이용"
      ],
      "metadata": {
        "id": "snWNhdlnlxVO"
      }
    },
    {
      "cell_type": "code",
      "source": [
        "data = dict()\n",
        "data['사과'] = 'Apple'\n",
        "data['바나나'] = 'Banana'\n",
        "data['코코넛'] = 'Coconut'\n",
        "\n",
        "# 키 데이터만 담은 리스트\n",
        "key_list = data.keys()\n",
        "# 값 데이터만 담은 리스트\n",
        "value_list = data.values()\n",
        "print(key_list)\n",
        "print(value_list)\n",
        "\n",
        "# 각 키에 따른 값을 하나씩 출력\n",
        "for key in key_list:\n",
        "    print(data[key])"
      ],
      "metadata": {
        "id": "dMjEJHxzythD",
        "colab": {
          "base_uri": "https://localhost:8080/"
        },
        "outputId": "353391c0-ca99-497d-9ce4-4c933420d77a"
      },
      "execution_count": 1,
      "outputs": [
        {
          "output_type": "stream",
          "name": "stdout",
          "text": [
            "dict_keys(['사과', '바나나', '코코넛'])\n",
            "dict_values(['Apple', 'Banana', 'Coconut'])\n",
            "Apple\n",
            "Banana\n",
            "Coconut\n"
          ]
        }
      ]
    },
    {
      "cell_type": "markdown",
      "source": [
        "##### 집합 자료형\n",
        "- 집합 자료형 소개\n",
        "    - 집합(Set)을 처리하기 위함.\n",
        "    - 집합은 기본적으로 리스트 혹은 문자열을 이용하여 만들 수 있다.\n",
        "    - 특징\n",
        "        - 중복허용불가\n",
        "        - 순서가 없다.\n",
        "    - 리스트, 튜플 => 순서가 있어서 인덱싱을 통해서 자료형의 값 얻을 수 있다.\n",
        "    - 사전 자료형, 집합 자료형 => 순서가 없어서 인덱싱으로 값을 얻을 수 없다.\n",
        "    - 키가 없고, 값 데이터만 담는다.\n",
        "    - 연산 시간 복잡도 : O(1)'\n",
        "    - '특정한 데이터가 이미 등장한 적이 있는지 여부' 체크할 때 매우 효과적 \n",
        "        - 집합 자료형 초기화할 때 set() 함수 이용 또는 중괄호({}) 안에 각 원소를 콤마(,)를 기준으로 구분해서 넣는다."
      ],
      "metadata": {
        "id": "c8zxZ3TGmg1M"
      }
    },
    {
      "cell_type": "code",
      "source": [
        "# 집합 자료형 초기화 방법1\n",
        "data = set([1, 1, 2, 3, 4, 4, 5])\n",
        "print(data)\n",
        "\n",
        "# 집합 자료형 초기화 방법2\n",
        "data = {1, 1, 2, 3, 4, 4, 5}\n",
        "print(data)"
      ],
      "metadata": {
        "colab": {
          "base_uri": "https://localhost:8080/"
        },
        "id": "3R2RDDEvmcoo",
        "outputId": "b5e275e6-2892-45e5-d0ce-d7d9b1a3a1be"
      },
      "execution_count": 2,
      "outputs": [
        {
          "output_type": "stream",
          "name": "stdout",
          "text": [
            "{1, 2, 3, 4, 5}\n",
            "{1, 2, 3, 4, 5}\n"
          ]
        }
      ]
    },
    {
      "cell_type": "markdown",
      "source": [
        "- 집합 자료형의 연산\n",
        "    - 집합 연산: 합집합, 교집합, 차집합\n",
        "    - 합집합('|'), 교집합('&'), 차집합('-')"
      ],
      "metadata": {
        "id": "6Tcx7b4tn-Av"
      }
    },
    {
      "cell_type": "code",
      "source": [
        "a = set([1, 2, 3, 4, 5])\n",
        "b = set([3, 4, 5, 6, 7])\n",
        "\n",
        "print(a | b) # 합집합\n",
        "print(a & b) # 교집합\n",
        "print(a - b) # 차집합"
      ],
      "metadata": {
        "colab": {
          "base_uri": "https://localhost:8080/"
        },
        "id": "emPMYkmBn8Nn",
        "outputId": "e6659670-f859-4f78-e6c8-6bbf7d2962bd"
      },
      "execution_count": 3,
      "outputs": [
        {
          "output_type": "stream",
          "name": "stdout",
          "text": [
            "{1, 2, 3, 4, 5, 6, 7}\n",
            "{3, 4, 5}\n",
            "{1, 2}\n"
          ]
        }
      ]
    },
    {
      "cell_type": "markdown",
      "source": [
        "- 집합 자료형 관련 함수\n",
        "    - add() : 하나의 집합 데이터에 값을 추가할 때\n",
        "    - updata() : 여러 개의 값을 한꺼번에 추가하고자 할 때\n",
        "    - remove() : 특정한 값을 제거할 때\n",
        "    - add(), remove() 시간복잡도: O(1)"
      ],
      "metadata": {
        "id": "ueruQT8soZaB"
      }
    },
    {
      "cell_type": "code",
      "source": [
        "data = set([1, 2, 3])\n",
        "print(data)\n",
        "\n",
        "# 새로운 원소 추가\n",
        "data.add(4)\n",
        "print(data)\n",
        "\n",
        "# 새로운 원소 여러 개 추가\n",
        "data.update([5, 6])\n",
        "print(data)\n",
        "\n",
        "# 특정한 값을 갖는 원소 삭제\n",
        "data.remove(3)\n",
        "print(data)"
      ],
      "metadata": {
        "colab": {
          "base_uri": "https://localhost:8080/"
        },
        "id": "ip6dn0XaoXw2",
        "outputId": "e4b283b9-5488-4377-c6b4-0406374e2342"
      },
      "execution_count": 4,
      "outputs": [
        {
          "output_type": "stream",
          "name": "stdout",
          "text": [
            "{1, 2, 3}\n",
            "{1, 2, 3, 4}\n",
            "{1, 2, 3, 4, 5, 6}\n",
            "{1, 2, 4, 5, 6}\n"
          ]
        }
      ]
    },
    {
      "cell_type": "code",
      "source": [
        ""
      ],
      "metadata": {
        "id": "eIxJZV_TpByH"
      },
      "execution_count": null,
      "outputs": []
    }
  ]
}