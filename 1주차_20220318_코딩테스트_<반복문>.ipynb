{
  "nbformat": 4,
  "nbformat_minor": 0,
  "metadata": {
    "colab": {
      "name": "1주차_20220318_코딩테스트 <반복문>.ipynb",
      "provenance": [],
      "authorship_tag": "ABX9TyNWrQ2a21c7242Sc2jKA30d"
    },
    "kernelspec": {
      "name": "python3",
      "display_name": "Python 3"
    },
    "language_info": {
      "name": "python"
    }
  },
  "cells": [
    {
      "cell_type": "markdown",
      "source": [
        "# 3. 반복문\n",
        "- 특정한 소스코드를 반복실행할 때 사용\n",
        "- while문, for문(대부분 for문이 더 짧다)"
      ],
      "metadata": {
        "id": "POAyRyGkLCPZ"
      }
    },
    {
      "cell_type": "markdown",
      "source": [
        "### while문\n",
        "- 조건문이 참일 때 한해서, 반복적으로 코드 수행\n",
        "- 조건문 설정에 따라 해당 블록을 영원히 반복할 수 있다. => 무한 루프(Infinite Loop)"
      ],
      "metadata": {
        "id": "GbFQEcTsLSE-"
      }
    },
    {
      "cell_type": "code",
      "execution_count": 1,
      "metadata": {
        "colab": {
          "base_uri": "https://localhost:8080/"
        },
        "id": "TyG9fBOQK7pg",
        "outputId": "90386b9c-5678-4f94-f13a-8ad3e8528b67"
      },
      "outputs": [
        {
          "output_type": "stream",
          "name": "stdout",
          "text": [
            "45\n"
          ]
        }
      ],
      "source": [
        "# 1부터 9까지 각 정수의 합을 계산하는 코드\n",
        "\n",
        "i = 1\n",
        "result = 0\n",
        "\n",
        "# i가 9보다 작거나 같을 때 아래 코드를 반복적으로 실행\n",
        "while i <= 9:\n",
        "    result += i\n",
        "    i += 1\n",
        "\n",
        "print(result)"
      ]
    },
    {
      "cell_type": "code",
      "source": [
        "# 1부터 9까지의 수 중 홀수만 더하고자 하는 코드\n",
        "\n",
        "i = 1\n",
        "result = 0\n",
        "\n",
        "# i가 9보다 작거나 같을 때 아래 코드를 반복적으로 실행\n",
        "while i <= 9:\n",
        "    if i % 2 == 1:\n",
        "        result += i\n",
        "    i += 1\n",
        "\n",
        "print(result)"
      ],
      "metadata": {
        "colab": {
          "base_uri": "https://localhost:8080/"
        },
        "id": "4yzS3W99LuJh",
        "outputId": "7f6288e1-c4eb-4ae3-db1f-2a6ddf809d77"
      },
      "execution_count": 2,
      "outputs": [
        {
          "output_type": "stream",
          "name": "stdout",
          "text": [
            "25\n"
          ]
        }
      ]
    },
    {
      "cell_type": "markdown",
      "source": [
        "### for문\n",
        "- for문의 구조\n",
        "```\n",
        "for 변수 in 리스트:\n",
        "    실행할 소스코드\n",
        "```\n",
        "- in 뒤에 오는 데이터에 포함되어 있는 모든 원소를 첫 번째 인덱스부터 차례대로 하나씩 방문한다.\n",
        "- in 뒤에 오는 데이터로는 리스트, 튜플, 문자열 등이 사용될 수 있다.\n",
        "- for문에서 수를 차례대로 나열할 때는 range()를 주로 쓴다. \n",
        "- **range(시작 값, 끝 값 + 1)**\n",
        "- 예) range(1, 10)\n"
      ],
      "metadata": {
        "id": "cRuiVqW4MPTC"
      }
    },
    {
      "cell_type": "code",
      "source": [
        "result = 0\n",
        "\n",
        "# i는 1부터 9까지의 모든 값을 순회\n",
        "for i in range(1, 10):\n",
        "    result += i\n",
        "\n",
        "print(result)"
      ],
      "metadata": {
        "colab": {
          "base_uri": "https://localhost:8080/"
        },
        "id": "lFpXuqZ2MNtO",
        "outputId": "832f0732-c5d5-47bb-8283-84bb7b1e7fde"
      },
      "execution_count": 3,
      "outputs": [
        {
          "output_type": "stream",
          "name": "stdout",
          "text": [
            "45\n"
          ]
        }
      ]
    },
    {
      "cell_type": "markdown",
      "source": [
        "- range()의 값으로 하나의 값만 넣으면, 자동으로 시작 값은 0 \n",
        "- 주로 리스트나 튜플 데이터의 모든 원소를 첫 번째 인덱스부터 방문할 때 이 방법 사용\n",
        "- 리스트의 인덱스는 0부터 출발"
      ],
      "metadata": {
        "id": "A33k_M8ONJYT"
      }
    },
    {
      "cell_type": "code",
      "source": [
        "scores = [90, 85, 77, 65, 97]\n",
        "\n",
        "for i in range(5):\n",
        "    if scores[i] >= 80:\n",
        "        print(i+1, \"번 학생은 합격입니다.\")"
      ],
      "metadata": {
        "colab": {
          "base_uri": "https://localhost:8080/"
        },
        "id": "OX4BEXReNHCg",
        "outputId": "6941b88a-cdff-45f4-9c83-fa12c2455d31"
      },
      "execution_count": 4,
      "outputs": [
        {
          "output_type": "stream",
          "name": "stdout",
          "text": [
            "1 번 학생은 합격입니다.\n",
            "2 번 학생은 합격입니다.\n",
            "5 번 학생은 합격입니다.\n"
          ]
        }
      ]
    },
    {
      "cell_type": "markdown",
      "source": [
        "- 반복문 안에서 continue를 만나면 프로그램의 흐름은 반복문의 처음으로 돌아간다."
      ],
      "metadata": {
        "id": "00wq_JZiNpKg"
      }
    },
    {
      "cell_type": "code",
      "source": [
        "# 2번, 4번 학생이 블랙리스트에 올라 점수가 높아도 합격하지 못하는 코드\n",
        "scores= [90, 86, 77, 65, 97]\n",
        "cheating_list = {2, 4}\n",
        "\n",
        "for i in range(5):\n",
        "    if i+1 in cheating_list:\n",
        "        continue\n",
        "    if scores[i] >= 80:\n",
        "        print(i+1, \"번 학생은 합격입니다.\")"
      ],
      "metadata": {
        "colab": {
          "base_uri": "https://localhost:8080/"
        },
        "id": "h_yJIs6JNmi3",
        "outputId": "b3caeb6f-b6e0-4051-fb63-b856a2f7d2a5"
      },
      "execution_count": 5,
      "outputs": [
        {
          "output_type": "stream",
          "name": "stdout",
          "text": [
            "1 번 학생은 합격입니다.\n",
            "5 번 학생은 합격입니다.\n"
          ]
        }
      ]
    },
    {
      "cell_type": "markdown",
      "source": [
        "- 반복문은 중첩 가능\n",
        "- 2중 반복문이 사용되는 대표적인 예시는 구구단\n",
        "- 플로이드 워셜 알고리즘, 다이나믹 프로그래밍 알고리즘 문제에 많이 사용됨"
      ],
      "metadata": {
        "id": "BFPl0bCdOFY0"
      }
    },
    {
      "cell_type": "code",
      "source": [
        "for i in range(2, 10):\n",
        "    for j in range(1, 10):\n",
        "        print(i, \"X\", j, \"=\", i*j)\n",
        "    print()"
      ],
      "metadata": {
        "colab": {
          "base_uri": "https://localhost:8080/"
        },
        "id": "FiIvP59lOEMi",
        "outputId": "1870cdd4-db02-4e90-b308-a967c2fc7bca"
      },
      "execution_count": 6,
      "outputs": [
        {
          "output_type": "stream",
          "name": "stdout",
          "text": [
            "2 X 1 = 2\n",
            "2 X 2 = 4\n",
            "2 X 3 = 6\n",
            "2 X 4 = 8\n",
            "2 X 5 = 10\n",
            "2 X 6 = 12\n",
            "2 X 7 = 14\n",
            "2 X 8 = 16\n",
            "2 X 9 = 18\n",
            "\n",
            "3 X 1 = 3\n",
            "3 X 2 = 6\n",
            "3 X 3 = 9\n",
            "3 X 4 = 12\n",
            "3 X 5 = 15\n",
            "3 X 6 = 18\n",
            "3 X 7 = 21\n",
            "3 X 8 = 24\n",
            "3 X 9 = 27\n",
            "\n",
            "4 X 1 = 4\n",
            "4 X 2 = 8\n",
            "4 X 3 = 12\n",
            "4 X 4 = 16\n",
            "4 X 5 = 20\n",
            "4 X 6 = 24\n",
            "4 X 7 = 28\n",
            "4 X 8 = 32\n",
            "4 X 9 = 36\n",
            "\n",
            "5 X 1 = 5\n",
            "5 X 2 = 10\n",
            "5 X 3 = 15\n",
            "5 X 4 = 20\n",
            "5 X 5 = 25\n",
            "5 X 6 = 30\n",
            "5 X 7 = 35\n",
            "5 X 8 = 40\n",
            "5 X 9 = 45\n",
            "\n",
            "6 X 1 = 6\n",
            "6 X 2 = 12\n",
            "6 X 3 = 18\n",
            "6 X 4 = 24\n",
            "6 X 5 = 30\n",
            "6 X 6 = 36\n",
            "6 X 7 = 42\n",
            "6 X 8 = 48\n",
            "6 X 9 = 54\n",
            "\n",
            "7 X 1 = 7\n",
            "7 X 2 = 14\n",
            "7 X 3 = 21\n",
            "7 X 4 = 28\n",
            "7 X 5 = 35\n",
            "7 X 6 = 42\n",
            "7 X 7 = 49\n",
            "7 X 8 = 56\n",
            "7 X 9 = 63\n",
            "\n",
            "8 X 1 = 8\n",
            "8 X 2 = 16\n",
            "8 X 3 = 24\n",
            "8 X 4 = 32\n",
            "8 X 5 = 40\n",
            "8 X 6 = 48\n",
            "8 X 7 = 56\n",
            "8 X 8 = 64\n",
            "8 X 9 = 72\n",
            "\n",
            "9 X 1 = 9\n",
            "9 X 2 = 18\n",
            "9 X 3 = 27\n",
            "9 X 4 = 36\n",
            "9 X 5 = 45\n",
            "9 X 6 = 54\n",
            "9 X 7 = 63\n",
            "9 X 8 = 72\n",
            "9 X 9 = 81\n",
            "\n"
          ]
        }
      ]
    },
    {
      "cell_type": "code",
      "source": [
        ""
      ],
      "metadata": {
        "id": "4337HsE8OXhn"
      },
      "execution_count": null,
      "outputs": []
    }
  ]
}