{
  "nbformat": 4,
  "nbformat_minor": 0,
  "metadata": {
    "colab": {
      "name": "1주차_20220314_코딩스터디.ipynb",
      "provenance": [],
      "collapsed_sections": [],
      "authorship_tag": "ABX9TyNrxczYEqOzbGMrZqdJOPUF"
    },
    "kernelspec": {
      "name": "python3",
      "display_name": "Python 3"
    },
    "language_info": {
      "name": "python"
    }
  },
  "cells": [
    {
      "cell_type": "markdown",
      "source": [
        "# A. 코딩 테스트를 위한 파이썬 문법"
      ],
      "metadata": {
        "id": "-3kC5BYpAQCA"
      }
    },
    {
      "cell_type": "markdown",
      "source": [
        "### 1. 자료형\n",
        "- 자료형에 대한 이해는 프로그래밍 이해의 첫 걸음. 파이썬은 사전 자료형, 집합 자료형 등 강력한 기능을 가진 자료형을 기본으로 내장하고 있다."
      ],
      "metadata": {
        "id": "oxH9d3PRAeAZ"
      }
    },
    {
      "cell_type": "markdown",
      "source": [
        "##### 수 자료형\n",
        "- 수 자료형은 코딩 테스트의 기본 자료형이며 정수와 실수가 많이 사용되는데 그 중에서도 정수를 기본으로 한다. "
      ],
      "metadata": {
        "id": "WtB8iCopA4nc"
      }
    },
    {
      "cell_type": "markdown",
      "source": [
        "정수형\n",
        "- 양의 정수, 음의 정수, 0이 있다.\n",
        "- 코딩 테스트의 알고리즘 문제 대부분 입력/출력 데이터가 정수형이다."
      ],
      "metadata": {
        "id": "3Gj8sshvCErs"
      }
    },
    {
      "cell_type": "code",
      "execution_count": null,
      "metadata": {
        "colab": {
          "base_uri": "https://localhost:8080/"
        },
        "id": "avKewJ3Y-dAK",
        "outputId": "984b90a8-4fb5-4bc2-f0d7-92f3fb09468c"
      },
      "outputs": [
        {
          "output_type": "stream",
          "name": "stdout",
          "text": [
            "1000\n"
          ]
        }
      ],
      "source": [
        "# 양의 정수\n",
        "a = 1000 \n",
        "print(a)"
      ]
    },
    {
      "cell_type": "code",
      "source": [
        "# 음의 정수\n",
        "a = -7\n",
        "print(a)"
      ],
      "metadata": {
        "colab": {
          "base_uri": "https://localhost:8080/"
        },
        "id": "zdq3wDVQCBXL",
        "outputId": "a30db5e0-d5c9-4f25-d6ff-292dd8e735fd"
      },
      "execution_count": null,
      "outputs": [
        {
          "output_type": "stream",
          "name": "stdout",
          "text": [
            "-7\n"
          ]
        }
      ]
    },
    {
      "cell_type": "code",
      "source": [
        "# 0\n",
        "a = 0\n",
        "print(a)"
      ],
      "metadata": {
        "colab": {
          "base_uri": "https://localhost:8080/"
        },
        "id": "AG9p0PJPCJuX",
        "outputId": "aa1302bd-7eea-4606-e0d9-4fef2de1f591"
      },
      "execution_count": null,
      "outputs": [
        {
          "output_type": "stream",
          "name": "stdout",
          "text": [
            "0\n"
          ]
        }
      ]
    },
    {
      "cell_type": "markdown",
      "source": [
        "실수형\n",
        "- 변수에 소수점을 붙인 수를 대입하면 실수형 변수로 처리한다.\n",
        "- 정수부가 0인 소수는 0을 생략하고 작성할 수 있다."
      ],
      "metadata": {
        "id": "3GIwKbDKCR_C"
      }
    },
    {
      "cell_type": "code",
      "source": [
        "# 양의 실수\n",
        "a = 157.93\n",
        "print(a)"
      ],
      "metadata": {
        "colab": {
          "base_uri": "https://localhost:8080/"
        },
        "id": "Y7uncnCrCP2s",
        "outputId": "3c88b454-65bf-4165-f02b-8ea576786ee9"
      },
      "execution_count": null,
      "outputs": [
        {
          "output_type": "stream",
          "name": "stdout",
          "text": [
            "157.93\n"
          ]
        }
      ]
    },
    {
      "cell_type": "code",
      "source": [
        "# 음의 실수\n",
        "a = -1837.2\n",
        "print(a)"
      ],
      "metadata": {
        "colab": {
          "base_uri": "https://localhost:8080/"
        },
        "id": "IsxivendDwqs",
        "outputId": "ac7b45b8-0d75-4bc4-862d-e9c75fb036ea"
      },
      "execution_count": null,
      "outputs": [
        {
          "output_type": "stream",
          "name": "stdout",
          "text": [
            "-1837.2\n"
          ]
        }
      ]
    },
    {
      "cell_type": "code",
      "source": [
        "# 소수부가 0일 때 0을 생략\n",
        "a = 5.\n",
        "print(a)"
      ],
      "metadata": {
        "colab": {
          "base_uri": "https://localhost:8080/"
        },
        "id": "sD_4HL7wD0p8",
        "outputId": "b17b9428-5a3f-4f26-ec2d-0bb6b3341e5c"
      },
      "execution_count": null,
      "outputs": [
        {
          "output_type": "stream",
          "name": "stdout",
          "text": [
            "5.0\n"
          ]
        }
      ]
    },
    {
      "cell_type": "code",
      "source": [
        "# 정수부가 0일 때 0을 생략\n",
        "a = -.7\n",
        "print(a)"
      ],
      "metadata": {
        "colab": {
          "base_uri": "https://localhost:8080/"
        },
        "id": "gQWQTVgOD4Hz",
        "outputId": "ce67e502-3d73-4211-d46d-53be6b48d0a7"
      },
      "execution_count": null,
      "outputs": [
        {
          "output_type": "stream",
          "name": "stdout",
          "text": [
            "-0.7\n"
          ]
        }
      ]
    },
    {
      "cell_type": "markdown",
      "source": [
        "실수형 데이터를 표현하는 방식 => e 또는 E\n",
        "- 유효숫자e(지수) = 유효숫자 x 10(지수)\n",
        "- 최단 경로 문제에서는 도달할 수 없는 노드에 대하여 최단 거리를 '무한(INF)'으로 설정 (ex. 10억 => 1e9)\n"
      ],
      "metadata": {
        "id": "iADB0cSDD9y4"
      }
    },
    {
      "cell_type": "code",
      "source": [
        "# 10억의 지수 표현 방식\n",
        "a = 1e9\n",
        "print(a)"
      ],
      "metadata": {
        "colab": {
          "base_uri": "https://localhost:8080/"
        },
        "id": "Pm3BaD9ND8gz",
        "outputId": "3346f5d9-5769-443f-ad9e-7461a8a897dd"
      },
      "execution_count": null,
      "outputs": [
        {
          "output_type": "stream",
          "name": "stdout",
          "text": [
            "1000000000.0\n"
          ]
        }
      ]
    },
    {
      "cell_type": "code",
      "source": [
        "# 752.5\n",
        "a = 75.25e1\n",
        "print(a)"
      ],
      "metadata": {
        "colab": {
          "base_uri": "https://localhost:8080/"
        },
        "id": "FXx_BGzIGj1t",
        "outputId": "c49dfce2-1bc7-43fb-b2b7-6961b92178e0"
      },
      "execution_count": null,
      "outputs": [
        {
          "output_type": "stream",
          "name": "stdout",
          "text": [
            "752.5\n"
          ]
        }
      ]
    },
    {
      "cell_type": "code",
      "source": [
        "# 3.954\n",
        "a = 3954e-3\n",
        "print(a)"
      ],
      "metadata": {
        "colab": {
          "base_uri": "https://localhost:8080/"
        },
        "id": "F2VgsT15GqSb",
        "outputId": "ca9acd1b-6fc7-4213-8c2d-a0b6bf05e438"
      },
      "execution_count": null,
      "outputs": [
        {
          "output_type": "stream",
          "name": "stdout",
          "text": [
            "3.954\n"
          ]
        }
      ]
    },
    {
      "cell_type": "markdown",
      "source": [
        "- 실수를 처리할 때 부동 소수점 방식을 이용한다. \n",
        "- 컴퓨터 시스템은 수 데이터를 처리할 때 2진수로 표현하므로 미세한 오차가 발생하기도 한다."
      ],
      "metadata": {
        "id": "Vu1RG_QmG_8m"
      }
    },
    {
      "cell_type": "code",
      "source": [
        "a = 0.3 + 0.6\n",
        "print(a)"
      ],
      "metadata": {
        "colab": {
          "base_uri": "https://localhost:8080/"
        },
        "id": "xWTyW0AIGu2b",
        "outputId": "27409831-63dd-4078-b24c-5c2cbb7e0b3b"
      },
      "execution_count": null,
      "outputs": [
        {
          "output_type": "stream",
          "name": "stdout",
          "text": [
            "0.8999999999999999\n"
          ]
        }
      ]
    },
    {
      "cell_type": "code",
      "source": [
        "if a == 0.9:\n",
        "    print(True) \n",
        "else:\n",
        "    print(False)"
      ],
      "metadata": {
        "colab": {
          "base_uri": "https://localhost:8080/"
        },
        "id": "rxVRHwGqLJfg",
        "outputId": "25532bb8-d986-472b-8feb-21e3536265fd"
      },
      "execution_count": null,
      "outputs": [
        {
          "output_type": "stream",
          "name": "stdout",
          "text": [
            "False\n"
          ]
        }
      ]
    },
    {
      "cell_type": "markdown",
      "source": [
        "- round()함수의 이용\n",
        "    - 소수점 값을 비교하는 작업이 필요한 문제에서 실수 값을 비교하지 못해서 원하는 결과를 얻지 못할 수 있다. 이때 round() 함수를 이용할 수 있다.\n",
        "    - round() 함수를 호출할 때 인자(Argument)를 넣는데 첫 번째 인자는 실수형 데이터이고, 두 번째 인자는 (반올림하고자 하는 위치 -1)이다.\n",
        "    - 코딩테스트 문제에서는 소수점 특정 자릿수에서 반올림한 결과가 같으면 정답으로 인정한다."
      ],
      "metadata": {
        "id": "RdphFxeMLnT6"
      }
    },
    {
      "cell_type": "code",
      "source": [
        "a = 0.3 + 0.6\n",
        "print(round(a, 4))"
      ],
      "metadata": {
        "colab": {
          "base_uri": "https://localhost:8080/"
        },
        "id": "C2CYarSKLQSj",
        "outputId": "e8f6a7f6-e50d-4738-f5a8-8712f0251979"
      },
      "execution_count": null,
      "outputs": [
        {
          "output_type": "stream",
          "name": "stdout",
          "text": [
            "0.9\n"
          ]
        }
      ]
    },
    {
      "cell_type": "code",
      "source": [
        "if round(a, 4) == 0.9:\n",
        "    print(True)\n",
        "else:\n",
        "    print(False)"
      ],
      "metadata": {
        "colab": {
          "base_uri": "https://localhost:8080/"
        },
        "id": "FWIOdUkmMTXG",
        "outputId": "48d7ac19-46d1-4f38-b134-dd4e317e8ced"
      },
      "execution_count": null,
      "outputs": [
        {
          "output_type": "stream",
          "name": "stdout",
          "text": [
            "True\n"
          ]
        }
      ]
    },
    {
      "cell_type": "markdown",
      "source": [
        "수 자료형의 연산\n",
        "- 프로그래밍에서는 사칙연산(+, -, x, /)을 이용하여 계산한다.\n",
        "- 나누기 연산자(/)는 나눠진 결과를 기본적으로 실수형으로 처리한다.\n",
        "- 나머지 연산자(%), 몫 연산자(//)"
      ],
      "metadata": {
        "id": "8klSO1UfMZqn"
      }
    },
    {
      "cell_type": "code",
      "source": [
        "a = 7\n",
        "b = 3\n",
        "\n",
        "# 나누기\n",
        "print(a / b)\n",
        "\n",
        "# 나머지\n",
        "print(a % b)\n",
        "\n",
        "# 몫\n",
        "print(a // b)"
      ],
      "metadata": {
        "colab": {
          "base_uri": "https://localhost:8080/"
        },
        "id": "eDYe6K73MYbj",
        "outputId": "94f99ca0-cd5c-49bf-c00b-209b5c762c19"
      },
      "execution_count": null,
      "outputs": [
        {
          "output_type": "stream",
          "name": "stdout",
          "text": [
            "2.3333333333333335\n",
            "1\n",
            "2\n"
          ]
        }
      ]
    },
    {
      "cell_type": "markdown",
      "source": [
        "- 거듭제곱 연산자는 x**y형식으로 사용한다."
      ],
      "metadata": {
        "id": "GSy7yHp0NVdD"
      }
    },
    {
      "cell_type": "code",
      "source": [
        "a = 5\n",
        "b = 3\n",
        "\n",
        "print(a ** b)"
      ],
      "metadata": {
        "colab": {
          "base_uri": "https://localhost:8080/"
        },
        "id": "xkVNHWZcNR99",
        "outputId": "8081a46e-0bbc-4772-bdff-c702d9bc6b61"
      },
      "execution_count": null,
      "outputs": [
        {
          "output_type": "stream",
          "name": "stdout",
          "text": [
            "125\n"
          ]
        }
      ]
    },
    {
      "cell_type": "markdown",
      "source": [
        "##### 리스트 자료형\n",
        "- 여러 개의 데이터를 연속적으로 담아 처리하기 위해 사용할 수 있다.\n",
        "- 파이썬의 리스트 자료형은 배열(Array)기능을 포함하고 있으며 내부적으로 연결 리스트 자료구조를 채택하고 있어서 append(), remove() 등의 메서드를 지원한다."
      ],
      "metadata": {
        "id": "uh0QebU1N1l3"
      }
    },
    {
      "cell_type": "markdown",
      "source": [
        "리스트 만들기\n",
        "- 리스트는 대괄호([])안에 원소를 넣어 초기화하며, 쉼표(,)로 원소를 구분한다.\n",
        "- 리스트의 원소에 접근할 때는 인덱스(index)값을 괄호 안에 넣는다. "
      ],
      "metadata": {
        "id": "CSpvXsLaSzYJ"
      }
    },
    {
      "cell_type": "code",
      "source": [
        "a = [1, 2, 3, 4, 5, 6, 7, 8, 9]\n",
        "print(a)"
      ],
      "metadata": {
        "colab": {
          "base_uri": "https://localhost:8080/"
        },
        "id": "r3uJZ-kxNcav",
        "outputId": "82776706-6a44-417b-c6a3-0a75f456c2c6"
      },
      "execution_count": null,
      "outputs": [
        {
          "output_type": "stream",
          "name": "stdout",
          "text": [
            "[1, 2, 3, 4, 5, 6, 7, 8, 9]\n"
          ]
        }
      ]
    },
    {
      "cell_type": "code",
      "source": [
        "# 인덱스 4, 즉 다섯 번째 원소에 접근\n",
        "print(a[4])"
      ],
      "metadata": {
        "colab": {
          "base_uri": "https://localhost:8080/"
        },
        "id": "wKJwmCQ4dqg1",
        "outputId": "8b526a6e-23e2-408c-c8cd-957bec73db4a"
      },
      "execution_count": null,
      "outputs": [
        {
          "output_type": "stream",
          "name": "stdout",
          "text": [
            "5\n"
          ]
        }
      ]
    },
    {
      "cell_type": "code",
      "source": [
        "# 빈 리스트 선언 방법\n",
        "a = list()\n",
        "a"
      ],
      "metadata": {
        "colab": {
          "base_uri": "https://localhost:8080/"
        },
        "id": "e3MtlHVJz-Bd",
        "outputId": "b330b32c-7f8e-4935-ce8c-75ef35dbeb0c"
      },
      "execution_count": null,
      "outputs": [
        {
          "output_type": "execute_result",
          "data": {
            "text/plain": [
              "[]"
            ]
          },
          "metadata": {},
          "execution_count": 22
        }
      ]
    },
    {
      "cell_type": "code",
      "source": [
        "print(a)"
      ],
      "metadata": {
        "colab": {
          "base_uri": "https://localhost:8080/"
        },
        "id": "74rn5uPK0Iil",
        "outputId": "554d70b1-d035-4e77-ca0c-a7adf68ee22c"
      },
      "execution_count": null,
      "outputs": [
        {
          "output_type": "stream",
          "name": "stdout",
          "text": [
            "[]\n"
          ]
        }
      ]
    },
    {
      "cell_type": "code",
      "source": [
        "a = []"
      ],
      "metadata": {
        "id": "g9cPW0BN0NoF"
      },
      "execution_count": null,
      "outputs": []
    },
    {
      "cell_type": "code",
      "source": [
        "print(a)"
      ],
      "metadata": {
        "colab": {
          "base_uri": "https://localhost:8080/"
        },
        "id": "6iiJxyAq0PPl",
        "outputId": "7e585f0d-52ff-4660-b698-5930bee74b2f"
      },
      "execution_count": null,
      "outputs": [
        {
          "output_type": "stream",
          "name": "stdout",
          "text": [
            "[]\n"
          ]
        }
      ]
    },
    {
      "cell_type": "markdown",
      "source": [
        "- 코딩 테스트 문제에서 주로 크기가 N인 1차원 리스트를 초기화해야 하는데 다음 방식으로 초기화하면 편리하다."
      ],
      "metadata": {
        "id": "qaBCkyqB0SUm"
      }
    },
    {
      "cell_type": "code",
      "source": [
        "# 크기가 N이고, 모든 값이 0인 1차원 리스트 초기화\n",
        "n = 10\n",
        "a = [0] * n\n",
        "print(a)"
      ],
      "metadata": {
        "colab": {
          "base_uri": "https://localhost:8080/"
        },
        "id": "5ZGRYu1z0QPG",
        "outputId": "e1927551-1a65-4f82-a03c-8d1917764e32"
      },
      "execution_count": null,
      "outputs": [
        {
          "output_type": "stream",
          "name": "stdout",
          "text": [
            "[0, 0, 0, 0, 0, 0, 0, 0, 0, 0]\n"
          ]
        }
      ]
    },
    {
      "cell_type": "markdown",
      "source": [
        "리스트의 인덱싱과 슬라이싱\n",
        "- 인덱싱(Indexing) : 인덱스값을 입력하여 리스트의 특정한 원소에 접근하는 것\n",
        "- 인덱스값은 양의 정수, 음의 정수 모두 가능. 음의 정수 넣으면 원소를 거꾸로 탐색\n",
        "- 예) -1을 넣으면 가장 마지막 원소 출력\n",
        "- 인덱싱하여 특정 원소에 접근한 뒤, 그 값을 간단하게 바꿀 수 있다."
      ],
      "metadata": {
        "id": "UjpUnhCT0nEE"
      }
    },
    {
      "cell_type": "code",
      "source": [
        "a = [1, 2, 3, 4, 5, 6, 7, 8, 9]\n",
        "# 뒤에서 첫 번째 원소 출력\n",
        "print(a[-1])"
      ],
      "metadata": {
        "colab": {
          "base_uri": "https://localhost:8080/"
        },
        "id": "3wSZATSm0fBW",
        "outputId": "a3b6bbe4-8a51-42a1-dc8b-6cf9743614bc"
      },
      "execution_count": null,
      "outputs": [
        {
          "output_type": "stream",
          "name": "stdout",
          "text": [
            "9\n"
          ]
        }
      ]
    },
    {
      "cell_type": "code",
      "source": [
        "# 뒤에서 세 번째 원소 출력\n",
        "print(a[-3])"
      ],
      "metadata": {
        "colab": {
          "base_uri": "https://localhost:8080/"
        },
        "id": "I726O1Zp1Mll",
        "outputId": "6ccf8246-2448-45aa-bc2d-7aceef3632e0"
      },
      "execution_count": null,
      "outputs": [
        {
          "output_type": "stream",
          "name": "stdout",
          "text": [
            "7\n"
          ]
        }
      ]
    },
    {
      "cell_type": "code",
      "source": [
        "# 네 번째 원소 값 변경\n",
        "a[3] = 7\n",
        "print(a)"
      ],
      "metadata": {
        "colab": {
          "base_uri": "https://localhost:8080/"
        },
        "id": "PtIFeteg1WBt",
        "outputId": "2efc52e6-86a3-45e4-bbd6-e0ddcf84aacd"
      },
      "execution_count": null,
      "outputs": [
        {
          "output_type": "stream",
          "name": "stdout",
          "text": [
            "[1, 2, 3, 7, 5, 6, 7, 8, 9]\n"
          ]
        }
      ]
    },
    {
      "cell_type": "markdown",
      "source": [
        "- 슬라이싱(Slicing) : 리스트에서 연속적인 위치를 갖는 원소들을 가져와야 할 때 사용할 수 있다.\n",
        "- [(시작 인덱스):(끝 인덱스-1)]\n",
        "- 예) a[1:4] <=> 두 번째 원소부터 네 번째 원소까지의 모든 데이터 가져오기"
      ],
      "metadata": {
        "id": "GyGdpM8k1qrm"
      }
    },
    {
      "cell_type": "code",
      "source": [
        "a = [1, 2, 3, 4, 5, 6, 7, 8, 9]\n",
        "\n",
        "# 두 번째 원소부터 네 번째 원소까지\n",
        "print(a[1:4])"
      ],
      "metadata": {
        "colab": {
          "base_uri": "https://localhost:8080/"
        },
        "id": "j0MBpLNI1Z4s",
        "outputId": "75403c61-10c0-4b1e-9df8-56e56a05e7a1"
      },
      "execution_count": null,
      "outputs": [
        {
          "output_type": "stream",
          "name": "stdout",
          "text": [
            "[2, 3, 4]\n"
          ]
        }
      ]
    },
    {
      "cell_type": "code",
      "source": [
        ""
      ],
      "metadata": {
        "id": "AbyEWlPk2M6P"
      },
      "execution_count": null,
      "outputs": []
    }
  ]
}