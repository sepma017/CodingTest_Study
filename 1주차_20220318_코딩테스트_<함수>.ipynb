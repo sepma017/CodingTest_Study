{
  "nbformat": 4,
  "nbformat_minor": 0,
  "metadata": {
    "colab": {
      "name": "1주차_20220318_코딩테스트 <함수>.ipynb",
      "provenance": [],
      "authorship_tag": "ABX9TyOvL+13W3zht0nG1z2NgCkQ"
    },
    "kernelspec": {
      "name": "python3",
      "display_name": "Python 3"
    },
    "language_info": {
      "name": "python"
    }
  },
  "cells": [
    {
      "cell_type": "markdown",
      "source": [
        "# 4. 함수\n",
        "- 똑같은 코드를 반복적으로 사용해야 할 때 함수를 사용하면 매우 효율적으로 문제를 해결할 수 있다.\n",
        "- 테스트 케이스(Test Case)가 입력된 뒤에 테스트 케이스만큼 특정한 알고리즘을 수행한 결과를 반복적으로 출력하도록 요구되는 문제 => 함수 이용!\n",
        "- 함수 구조\n",
        "```\n",
        "def 함수명(매개변수):\n",
        "    실행할 소스코드\n",
        "    return 반환 값\n",
        "```\n",
        "- 함수 작성시, 함수 내부에서 사용되는 변수 값을 전달 받기 위해 **매개변수**를 정의할 수 있다.\n",
        "- 함수에서 값을 반환할 때 => return이용 \n",
        "- 함수에서 매개변수나 return문이 존재하지 않을 수도 있다."
      ],
      "metadata": {
        "id": "iyjdze3ZO0gB"
      }
    },
    {
      "cell_type": "code",
      "execution_count": 1,
      "metadata": {
        "colab": {
          "base_uri": "https://localhost:8080/"
        },
        "id": "rTxfPWBuOqtJ",
        "outputId": "f1ceb633-07f1-431a-f006-83ffb45b6349"
      },
      "outputs": [
        {
          "output_type": "stream",
          "name": "stdout",
          "text": [
            "10\n"
          ]
        }
      ],
      "source": [
        "# 더하기 기능을 제공하는 함수\n",
        "def add(a, b):\n",
        "    return a + b\n",
        "\n",
        "print(add(3, 7))"
      ]
    },
    {
      "cell_type": "code",
      "source": [
        "# return문 없이 작성하는 함수\n",
        "def add(a, b):\n",
        "    print('함수의 결과:', a+b)\n",
        "\n",
        "add(3, 7)"
      ],
      "metadata": {
        "colab": {
          "base_uri": "https://localhost:8080/"
        },
        "id": "gGCqmp7cP-oo",
        "outputId": "6e5013f7-5732-47fe-ce5b-f5d6c44eaf32"
      },
      "execution_count": 2,
      "outputs": [
        {
          "output_type": "stream",
          "name": "stdout",
          "text": [
            "함수의 결과: 10\n"
          ]
        }
      ]
    },
    {
      "cell_type": "markdown",
      "source": [
        "- 함수를 호출하는 과정에서 **인자(Argument)**를 넘겨줄 때, 파라미터의 변수를 직접 지정해서 값을 넣을 수 있다.\n",
        "- 예) 함수의 매개변수 a, b일 때 함수 호출 라인에는 인자 a, b를 지칭해서 각각 값을 넣을 수 있다. (순서 달라져도 상관없다)"
      ],
      "metadata": {
        "id": "-Idw-7uIQPk1"
      }
    },
    {
      "cell_type": "code",
      "source": [
        "def add(a, b):\n",
        "    print('함수의 결과:', a+b)\n",
        "\n",
        "add(b = 3, a = 7)"
      ],
      "metadata": {
        "colab": {
          "base_uri": "https://localhost:8080/"
        },
        "id": "f_5J-148QJm-",
        "outputId": "3d924fb2-7450-4d58-f6c4-2d0452960ad7"
      },
      "execution_count": 3,
      "outputs": [
        {
          "output_type": "stream",
          "name": "stdout",
          "text": [
            "함수의 결과: 10\n"
          ]
        }
      ]
    },
    {
      "cell_type": "markdown",
      "source": [
        "- 함수 안에서 함수 밖의 변수 데이터를 변경해야 하는 경우 => **global키워드** 이용!\n",
        "- global 키워드로 변수를 지정하면, 해당 함수에서 지역변수를 만들지 않고, 함수 바깥에 선언된 변수를 바로 참조하게 됨."
      ],
      "metadata": {
        "id": "4j6O2cB8QxVX"
      }
    },
    {
      "cell_type": "code",
      "source": [
        "# a라는 변수를 함수 안에서도 동일하게 접근하여 값을 변경함(global키워드 사용)\n",
        "a = 0\n",
        "\n",
        "def func():\n",
        "    global a\n",
        "    a += 1\n",
        "\n",
        "for i in range(10):\n",
        "    func()\n",
        "\n",
        "print(a)"
      ],
      "metadata": {
        "colab": {
          "base_uri": "https://localhost:8080/"
        },
        "id": "3Ih35xGiQtDK",
        "outputId": "878a33a4-d47c-471f-d006-9e86c1157034"
      },
      "execution_count": 4,
      "outputs": [
        {
          "output_type": "stream",
          "name": "stdout",
          "text": [
            "10\n"
          ]
        }
      ]
    },
    {
      "cell_type": "markdown",
      "source": [
        "- **람다 표현식(Lambda Express)** : 함수를 매우 간단하게 작성하여 적용 가능\n",
        "- 특정 기능을 수행하는 함수를 한 줄에 작성할 수 있다.\n",
        "- 파이썬의 정렬 라이브러리를 사용할 때, 정렬 기준(Key)을 설정할 때에도 자주 사용됨.\n"
      ],
      "metadata": {
        "id": "Gn1079FqRRRq"
      }
    },
    {
      "cell_type": "code",
      "source": [
        "def add(a, b):\n",
        "    return a + b\n",
        "\n",
        "# 일반적인 add() 메서드 사용\n",
        "print(add(3, 7))\n",
        "\n",
        "# 람다 표현식으로 구현한 add() 메서드\n",
        "print((lambda a, b: a + b)(3,7))"
      ],
      "metadata": {
        "colab": {
          "base_uri": "https://localhost:8080/"
        },
        "id": "WW7YxFqzRQKN",
        "outputId": "a4f5376d-2fbc-41d1-cc4b-6bf9f2f78431"
      },
      "execution_count": 5,
      "outputs": [
        {
          "output_type": "stream",
          "name": "stdout",
          "text": [
            "10\n",
            "10\n"
          ]
        }
      ]
    },
    {
      "cell_type": "code",
      "source": [
        ""
      ],
      "metadata": {
        "id": "whjEmJ7hR2WD"
      },
      "execution_count": null,
      "outputs": []
    }
  ]
}