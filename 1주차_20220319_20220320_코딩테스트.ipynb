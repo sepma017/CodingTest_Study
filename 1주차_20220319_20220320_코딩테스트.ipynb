{
  "nbformat": 4,
  "nbformat_minor": 0,
  "metadata": {
    "colab": {
      "name": "1주차_20220319-20220320_코딩테스트.ipynb",
      "provenance": [],
      "collapsed_sections": [],
      "authorship_tag": "ABX9TyM4m9WhZvMChntRjYTWYfYz"
    },
    "kernelspec": {
      "name": "python3",
      "display_name": "Python 3"
    },
    "language_info": {
      "name": "python"
    }
  },
  "cells": [
    {
      "cell_type": "markdown",
      "source": [
        "# 6. 주요 라이브러리의 문법과 유의점\n",
        "- 표준 라이브러리: 특정한 프로그래밍 언어에서 자주 사용되는 표준 소스코드를 미리 구현해 놓은 라이브러리\n",
        "- 파이썬 표준 라이브러리의 추가로 필요한 기능이 있다면 찾아서 사용한다.\n",
        "- https://docs.python.org/ko/3/library/index.html\n",
        "- 알아두어야 할 중요 라이브러리\n",
        "    - 내장 함수: print(), input(), sorted() 등의 기본 내장 라이브러리\n",
        "    - itertools: 파이썬에서 반복되는 형태의 데이터를 처리하는 기능을 제공하는 라이브러리(순열, 조합)\n",
        "    - heapq: 힙(Heap) 기능 제공. 우선순위 큐 기능을 구현하기 위해 사용\n",
        "    - bisect: 이진 탐색(Binary Search) 기능 제공\n",
        "    - collections: 덱(deque), 카운터(Counter)등의 유용한 자료구조 포함\n",
        "    - math: 필수적인 수학적 기능을 제공하는 라이브러리(팩토리얼, 제곱근, 최대공약수(GCD), 삼각함수, 파이(pi)등 함수 및 상수 포함"
      ],
      "metadata": {
        "id": "F5jSXD8mgMJY"
      }
    },
    {
      "cell_type": "markdown",
      "source": [
        "### 내장 함수\n",
        "- import명령어 없이 바로 사용가능한 내장함수 존재.\n",
        "- input(), print() 등 입출력 함수\n",
        "- sum()함수 : iterable 객체(반복가능한 객체. 리스트, 사전 자료형, 튜플 자료형 등)가 입력으로 주어졌을 때, 모든 원소의 합을 반환"
      ],
      "metadata": {
        "id": "GtLGkehhhYGe"
      }
    },
    {
      "cell_type": "code",
      "execution_count": null,
      "metadata": {
        "colab": {
          "base_uri": "https://localhost:8080/"
        },
        "id": "rNXfJ4GvgGhF",
        "outputId": "2a2f3f92-e9d4-442e-a10a-ff160a60a132"
      },
      "outputs": [
        {
          "output_type": "stream",
          "name": "stdout",
          "text": [
            "15\n"
          ]
        }
      ],
      "source": [
        "result = sum([1, 2, 3, 4, 5])\n",
        "print(result)"
      ]
    },
    {
      "cell_type": "markdown",
      "source": [
        "- min()함수: 파라미터가 2개 이상 들어왔을 때 가장 작은 값을 반환한다."
      ],
      "metadata": {
        "id": "F85lpDnIiJYh"
      }
    },
    {
      "cell_type": "code",
      "source": [
        "result = min(7, 3, 5, 2)\n",
        "print(result)"
      ],
      "metadata": {
        "colab": {
          "base_uri": "https://localhost:8080/"
        },
        "id": "W00Nixz9iHCt",
        "outputId": "fcf1e501-05d7-48dc-d73b-f4cb542fdd87"
      },
      "execution_count": null,
      "outputs": [
        {
          "output_type": "stream",
          "name": "stdout",
          "text": [
            "2\n"
          ]
        }
      ]
    },
    {
      "cell_type": "markdown",
      "source": [
        "- max()함수: 파라미터가 2개 이상 들어왔을 때 가장 큰 값 반환한다."
      ],
      "metadata": {
        "id": "a9RreShhiVbI"
      }
    },
    {
      "cell_type": "code",
      "source": [
        "result = max(7, 3, 5, 2)\n",
        "print(result)"
      ],
      "metadata": {
        "colab": {
          "base_uri": "https://localhost:8080/"
        },
        "id": "P8PlvxpZiUYs",
        "outputId": "c1305b96-d409-4088-a909-a884e7323ccd"
      },
      "execution_count": null,
      "outputs": [
        {
          "output_type": "stream",
          "name": "stdout",
          "text": [
            "7\n"
          ]
        }
      ]
    },
    {
      "cell_type": "markdown",
      "source": [
        "- eval()함수: 수학 수식이 문자열 형식으로 들어오면 해당 수식을 계산한 결과를 반환한다."
      ],
      "metadata": {
        "id": "2GaRe5X3ifOl"
      }
    },
    {
      "cell_type": "code",
      "source": [
        "result = eval(\"(3 + 5) * 7\")\n",
        "print(result)"
      ],
      "metadata": {
        "colab": {
          "base_uri": "https://localhost:8080/"
        },
        "id": "FnpN2xtcidYt",
        "outputId": "8a31c7a9-e163-450c-fa06-a8dda248c2a4"
      },
      "execution_count": null,
      "outputs": [
        {
          "output_type": "stream",
          "name": "stdout",
          "text": [
            "56\n"
          ]
        }
      ]
    },
    {
      "cell_type": "markdown",
      "source": [
        "- sorted()함수: iterable객체가 들어왔을 때, 정렬된 결과를 반환한다.\n",
        "- key 속성으로 정렬 기준을 명시할 수 있으며, reverse 속성으로 정렬된 결과 리스트를 뒤집을지의 여부를 설정할 수 있다.\n"
      ],
      "metadata": {
        "id": "nfhiZuhDi0r2"
      }
    },
    {
      "cell_type": "code",
      "source": [
        "result = sorted([9, 1, 8, 5, 4])    # 오름차순으로 정렬\n",
        "print(result)\n",
        "result = sorted([9, 1, 8, 5, 4], reverse=True)  # 내림차순으로 정렬\n",
        "print(result)"
      ],
      "metadata": {
        "colab": {
          "base_uri": "https://localhost:8080/"
        },
        "id": "RJ3Vk3JoizlB",
        "outputId": "0ece1089-8ba1-4232-d82e-fb3dcc908ba4"
      },
      "execution_count": null,
      "outputs": [
        {
          "output_type": "stream",
          "name": "stdout",
          "text": [
            "[1, 4, 5, 8, 9]\n",
            "[9, 8, 5, 4, 1]\n"
          ]
        }
      ]
    },
    {
      "cell_type": "markdown",
      "source": [
        "- 파이썬에서 리스트의 원소로 리스트나 튜플이 존재할 때 특정한 기준에 따라 정렬을 수행할 수 있다.\n",
        "- 정렬 기준은 key 속성을 이용해 명시 가능"
      ],
      "metadata": {
        "id": "z2ZwOtLWjUAH"
      }
    },
    {
      "cell_type": "code",
      "source": [
        "# 리스트 [('홍길동',35), ('이순신',75), ('아무개',50)]이 있을 때, \n",
        "# 원소를 튜플의 두번째 원소(수)를 기준으로 내림차순으로 정렬하고자 한다면 다음과 같이 사용한다.\n",
        "result = sorted([('홍길동', 35), ('이순신', 75), ('아무개', 50)], key = lambda x: x[1], reverse=True)\n",
        "print(result)"
      ],
      "metadata": {
        "colab": {
          "base_uri": "https://localhost:8080/"
        },
        "id": "QqfDwvRMjLVX",
        "outputId": "bb6a265f-4d28-4f2a-ed13-44debfb0637d"
      },
      "execution_count": null,
      "outputs": [
        {
          "output_type": "stream",
          "name": "stdout",
          "text": [
            "[('이순신', 75), ('아무개', 50), ('홍길동', 35)]\n"
          ]
        }
      ]
    },
    {
      "cell_type": "markdown",
      "source": [
        "- 리스트와 같은 iterable() 객체는 기본으로 sort() 함수를 내장하고 있어서 굳이 sorted() 함수를 사용하지 않고도 sort()함수를 사용해서 정렬 가능.\n",
        "- 이 경우 리스트 객체의 내부 값이 정렬된 값으로 바로 변경됨."
      ],
      "metadata": {
        "id": "bfPrODm6kAsy"
      }
    },
    {
      "cell_type": "code",
      "source": [
        "data = [9, 1, 8, 5, 4]\n",
        "data.sort()\n",
        "print(data)"
      ],
      "metadata": {
        "colab": {
          "base_uri": "https://localhost:8080/"
        },
        "id": "Of7Hdpsmj_Ak",
        "outputId": "7dd266ef-a199-4e7d-9b3d-f0c3378e74d5"
      },
      "execution_count": null,
      "outputs": [
        {
          "output_type": "stream",
          "name": "stdout",
          "text": [
            "[1, 4, 5, 8, 9]\n"
          ]
        }
      ]
    },
    {
      "cell_type": "markdown",
      "source": [
        "### itertools\n",
        "- 반복되는 데이터를 처리하는 기능을 포함하고 있는 라이브러리\n",
        "- 클래스가 매우 다양하지만, 코딩테스트에서 가장 유용하게 사용가능한 클래스는 permutations, combinations\n",
        "- permutations(순열) : iterable 객체에서 r개의 데이터를 뽑아 일렬로 나열하는 모든 경우를 계산.\n",
        "    - permutations는 클래스 => 객체 초기화 후 리스트 자료형으로 변환하여 사용"
      ],
      "metadata": {
        "id": "YWFLMOa3kTZH"
      }
    },
    {
      "cell_type": "code",
      "source": [
        "from itertools import permutations\n",
        "data = ['A', 'B', 'C']  # 데이터 준비\n",
        "result = list(permutations(data, 3))    # 모든 순열 구하기\n",
        "print(result)"
      ],
      "metadata": {
        "colab": {
          "base_uri": "https://localhost:8080/"
        },
        "id": "pXOEpm4pkSbq",
        "outputId": "604d5a93-a3b9-4c29-aae8-55c859322835"
      },
      "execution_count": null,
      "outputs": [
        {
          "output_type": "stream",
          "name": "stdout",
          "text": [
            "[('A', 'B', 'C'), ('A', 'C', 'B'), ('B', 'A', 'C'), ('B', 'C', 'A'), ('C', 'A', 'B'), ('C', 'B', 'A')]\n"
          ]
        }
      ]
    },
    {
      "cell_type": "markdown",
      "source": [
        "- combinations(조합): iterable객체에서 r개의 데이터를 뽑아 순서를 고려하지 않고 나열하는 모든 경우를 계산."
      ],
      "metadata": {
        "id": "P24jCIfylCUN"
      }
    },
    {
      "cell_type": "code",
      "source": [
        "from itertools import combinations\n",
        "\n",
        "data = ['A', 'B', 'C']  # 데이터 준비\n",
        "result = list(combinations(data, 2))    # 2개를 뽑는 모든 조합 구하기\n",
        "\n",
        "print(result)"
      ],
      "metadata": {
        "colab": {
          "base_uri": "https://localhost:8080/"
        },
        "id": "3Ln1NKUGlAz9",
        "outputId": "9eb52b5b-e056-4760-de04-10e85a1e4aa9"
      },
      "execution_count": null,
      "outputs": [
        {
          "output_type": "stream",
          "name": "stdout",
          "text": [
            "[('A', 'B'), ('A', 'C'), ('B', 'C')]\n"
          ]
        }
      ]
    },
    {
      "cell_type": "markdown",
      "source": [
        "- product : permutations와 같이 iterable 객체에서 r개의 데이터를 뽑아 일렬로 나열하는 모든 경우(순열)를 계산. 다만, 원소를 **중복**하여 뽑는다.\n",
        "- product 객체를 초기화 할 때는 뽑고자 하는 데이터의 수를 repeat 속성값으로 넣어준다."
      ],
      "metadata": {
        "id": "QXe2jXM6wjbx"
      }
    },
    {
      "cell_type": "code",
      "source": [
        "from itertools import product\n",
        "\n",
        "data = ['A', 'B', 'C']  # 데이터 준비\n",
        "result = list(product(data, repeat=2))  # 2개를 뽑는 모든 순열 구하기(중복 허용)\n",
        "\n",
        "print(result)"
      ],
      "metadata": {
        "id": "39Wb3NhEloDd",
        "colab": {
          "base_uri": "https://localhost:8080/"
        },
        "outputId": "b6d3fc3a-bbaf-4c80-a532-c833cf838286"
      },
      "execution_count": 1,
      "outputs": [
        {
          "output_type": "stream",
          "name": "stdout",
          "text": [
            "[('A', 'A'), ('A', 'B'), ('A', 'C'), ('B', 'A'), ('B', 'B'), ('B', 'C'), ('C', 'A'), ('C', 'B'), ('C', 'C')]\n"
          ]
        }
      ]
    },
    {
      "cell_type": "markdown",
      "source": [
        "- combinations_with_replacement : combinations와 같이 iterable객체에서 r개의 데이터를 뽑아 순서를 고려하지 않고 나열하는 모든 경우(조합)을 계산. 다만, 원소를 **중복**해서 뽑는다.\n",
        "- permutations와 combinations, product, combinations_with_replacement는 클래스 => 객체 초기화 후 리스트 자료형으로 변환하여 사용"
      ],
      "metadata": {
        "id": "rB4AdqWcyJt4"
      }
    },
    {
      "cell_type": "code",
      "source": [
        "from itertools import combinations_with_replacement\n",
        "\n",
        "data = ['A', 'B', 'C']  # 데이터 준비\n",
        "result = list(combinations_with_replacement(data, 2))   # 2개를 뽑는 모든 조합 구하기(중복 허용)\n",
        "\n",
        "print(result)"
      ],
      "metadata": {
        "colab": {
          "base_uri": "https://localhost:8080/"
        },
        "id": "nw_9LmYuxPm3",
        "outputId": "f5396e2d-f23d-4cb1-c058-c30d7062653d"
      },
      "execution_count": 3,
      "outputs": [
        {
          "output_type": "stream",
          "name": "stdout",
          "text": [
            "[('A', 'A'), ('A', 'B'), ('A', 'C'), ('B', 'B'), ('B', 'C'), ('C', 'C')]\n"
          ]
        }
      ]
    },
    {
      "cell_type": "markdown",
      "source": [
        "### heapq\n",
        "- 힙(Heap)기능을 위해 heapq라이브러리를 제공함.\n",
        "- 다양한 알고리즘에서 우선순위 큐 기능을 구현하고자 할 때 사용됨.\n",
        "- PriorityQueue라이브러리보다 heapq가 더 빠르게 동작 => heapq를 이용!\n",
        "- 파이썬의 힙은 최소 힙(Min Heap) => 단순히 원소를 힙에 전부 넣었다가 빼는 것만으로도 시간 복잡도 O(NlogN)에 오름차순 정렬이 완료됨.(최소 힙 자료구조의 최상단 원소는 '가장 작은'원소이기 때문)\n",
        "- 힙에 원소를 삽입할 때 => heapq.heappush() 메서드 이용\n",
        "- 힙에서 원소를 꺼내고자 할 때 => heapq.heappop() 메서드 이용"
      ],
      "metadata": {
        "id": "qa5eKZXPy26-"
      }
    },
    {
      "cell_type": "code",
      "source": [
        "# 힙 정렬(Heap Sort)을 heapq로 구현하는 예제\n",
        "import heapq\n",
        "\n",
        "def heapsort(iterable):\n",
        "    h = []\n",
        "    result = []\n",
        "    # 모든 원소를 차례대로 힙에 삽입\n",
        "    for value in iterable: \n",
        "        heapq.heappush(h, value)\n",
        "    # 힙에 삽입된 모든 원소를 차례대로 꺼내어 담기\n",
        "    for i in range(len(h)):\n",
        "        result.append(heapq.heappop(h))\n",
        "    return result\n",
        "\n",
        "result = heapsort([1, 3, 5, 7, 9, 2, 4, 6, 8, 0])\n",
        "print(result)"
      ],
      "metadata": {
        "colab": {
          "base_uri": "https://localhost:8080/"
        },
        "id": "9A4cFwu2yojU",
        "outputId": "70075db0-5fc3-4b24-d547-2a2b2bd892a1"
      },
      "execution_count": 4,
      "outputs": [
        {
          "output_type": "stream",
          "name": "stdout",
          "text": [
            "[0, 1, 2, 3, 4, 5, 6, 7, 8, 9]\n"
          ]
        }
      ]
    },
    {
      "cell_type": "markdown",
      "source": [
        "- 파이썬에서는 최대 힙(Max Heap)을 제공하지 않는다.\n",
        "- heapq라이브러리를 이용하여 최대 힙을 구현할 때는 원소의 부호를 임시로 변경하는 방식 사용.\n",
        "- 힙에 원소를 삽입하기 전에 잠시 부호를 반대로 바꾸었다가, 힙에서 원소를 꺼낸 뒤에 다시 원소의 부호를 바꾼다."
      ],
      "metadata": {
        "id": "nHuyA9bW074F"
      }
    },
    {
      "cell_type": "code",
      "source": [
        "# 최대 힙을 구현하여 내림차순 힙 정렬을 구현하는 예시\n",
        "import heapq\n",
        "\n",
        "def heapsort(iterable):\n",
        "    h = []\n",
        "    result = []\n",
        "    # 모든 원소를 차례대로 힙에 삽입\n",
        "    for value in iterable:\n",
        "        heapq.heappush(h, -value)\n",
        "    # 힙에 삽입된 모든 원소를 차례대로 꺼내어 담기\n",
        "    for i in range(len(h)):\n",
        "        result.append(-heapq.heappop(h))\n",
        "    return result"
      ],
      "metadata": {
        "id": "awlPnchB06M1"
      },
      "execution_count": 5,
      "outputs": []
    },
    {
      "cell_type": "code",
      "source": [
        "result = heapsort([1, 3, 5, 7, 9, 2, 4, 6, 8, 0])\n",
        "print(result)"
      ],
      "metadata": {
        "colab": {
          "base_uri": "https://localhost:8080/"
        },
        "id": "CxEWlaXM1wgd",
        "outputId": "5e7b0c88-ca80-4267-82dc-b82ddb091cff"
      },
      "execution_count": 6,
      "outputs": [
        {
          "output_type": "stream",
          "name": "stdout",
          "text": [
            "[9, 8, 7, 6, 5, 4, 3, 2, 1, 0]\n"
          ]
        }
      ]
    },
    {
      "cell_type": "markdown",
      "source": [
        "### bisect\n",
        "- 파이썬에서 이진탐색을 쉽게 구현할 때 사용.\n",
        "- '정렬된 배열'에서 특정한 원소를 찾아야 할 때 매우 효과적으로 사용됨.\n",
        "- bisect_left(a, x): 정렬된 순서를 유지하면서 리스트 a에 데이터 x를 삽입할 가장 왼쪽 인덱스를 찾는 메서드(시간 복잡도 O(logN))\n",
        "- bisect_right(a, x): 정렬된 순서를 유지하도록 리스트 a에 데이터 x를 삽입할 가장 오른쪽 인덱스를 찾는 메서드(시간 복잡도 O(logN))\n",
        "- 정렬된 리스트[1, 2, 4, 4, 8]이 있을 때, 새로운 데이터 4를 삽입하려 한다면 \n",
        "    - bisect_left(a, 4) : 2를 반환\n",
        "    - bisect_right(a, 4) : 4를 반환"
      ],
      "metadata": {
        "id": "vPrQeZOl13HN"
      }
    },
    {
      "cell_type": "markdown",
      "source": [
        "![코딩테스트_1.png](data:image/png;base64,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)"
      ],
      "metadata": {
        "id": "qqx6o6RV2eHQ"
      }
    },
    {
      "cell_type": "code",
      "source": [
        "from bisect import bisect_left, bisect_right\n",
        "\n",
        "a = [1, 2, 4, 4, 8]\n",
        "x = 4\n",
        "\n",
        "print(bisect_left(a, x))\n",
        "print(bisect_right(a, x))"
      ],
      "metadata": {
        "colab": {
          "base_uri": "https://localhost:8080/"
        },
        "id": "Pl0MhVmx12J8",
        "outputId": "d9e7ceca-d654-4aa7-ce3b-daf4822617ff"
      },
      "execution_count": 7,
      "outputs": [
        {
          "output_type": "stream",
          "name": "stdout",
          "text": [
            "2\n",
            "4\n"
          ]
        }
      ]
    },
    {
      "cell_type": "markdown",
      "source": [
        "- bisect_left()함수와 bisect_right()함수는 '정렬된 리스트'에서 '값이 특정 범위에 속하는 원소의 개수'를 구하고자 할 때, 효과적으로 사용가능\n",
        "- count_by_range(a, left_value, right_value)함수는 정렬된 리스트에서 값이 [left_value, right_value]에 속하는 데이터의 개수를 반환함.\n",
        "- 원소 값을 x라고 할 때, left_value <= x <= right_value인 원소의 개수를 O(logN)으로 빠르게 계산 가능"
      ],
      "metadata": {
        "id": "lv1mSF6z4aPu"
      }
    },
    {
      "cell_type": "code",
      "source": [
        "from bisect import bisect_left, bisect_right\n",
        "\n",
        "# 값이 [left_value, right_value]인 데이터의 개수를 반환하는 함수\n",
        "def count_by_range(a, left_value, right_value):\n",
        "    right_index = bisect_right(a, right_value)\n",
        "    left_index = bisect_left(a, left_value)\n",
        "    return right_index - left_index\n",
        "\n",
        "# 리스트 선언\n",
        "a = [1, 2, 3, 3, 3, 3, 4, 4, 8, 9]\n",
        "\n",
        "# 값이 4인 데이터 개수 출력\n",
        "print(count_by_range(a, 4, 4))\n",
        "\n",
        "# 값이 [-1, 3] 범위에 있는 데이터 개수 출력\n",
        "print(count_by_range(a, -1, 3))"
      ],
      "metadata": {
        "colab": {
          "base_uri": "https://localhost:8080/"
        },
        "id": "X_tEQMXh4Y40",
        "outputId": "fbf90420-e22d-420b-9326-a1b11af6e93a"
      },
      "execution_count": 8,
      "outputs": [
        {
          "output_type": "stream",
          "name": "stdout",
          "text": [
            "2\n",
            "6\n"
          ]
        }
      ]
    },
    {
      "cell_type": "markdown",
      "source": [
        "### collections\n",
        "- 유용한 자료구조를 제공하는 표준 라이브러리\n",
        "- 특히 deque와 Counter는 코딩테스트에서 유용하게 사용되는 클래스\n",
        "- 보통 파이썬에서는 **deque를 사용해 큐를 구현**(Queue 라이브러리는 일반적인 큐 자료구조를 구현하는 라이브러리가 아님)\n",
        "- 기본 리스트 자료형은 데이터 삽입, 삭제 등이 가능. 하지만 append()로 데이터 추가 또는 pop()으로 데이터를 삭제할 때 '가장 뒤쪽 원소'를 기준으로 수행 => 앞쪽 원소를 처리할 때에는 리스트 안에 데이터의 개수가 많아지면 시간이 많이 소모됨."
      ],
      "metadata": {
        "id": "6bnxBJdu5kwX"
      }
    },
    {
      "cell_type": "markdown",
      "source": [
        "![코딩테스트_2.png](data:image/png;base64,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)"
      ],
      "metadata": {
        "id": "se4eTp386Zl9"
      }
    },
    {
      "cell_type": "markdown",
      "source": [
        "- deque는 인덱싱, 슬라이싱 불가. 다만 연속적으로 나열된 데이터의 시작 부분이나 끝부분에 데이터를 삽입 또는 삭제할 때는 매우 효과적으로 사용가능\n",
        "- deque는 스택이나 큐의 기능 모두 포함 => 스택 또는 큐의 자료구조의 대용으로 사용가능\n",
        "- popleft() : deque에서 첫 번째 원소를 제거할 때 \n",
        "- pop() : 마지막 원소를 제가할 때\n",
        "- appendleft(x) : 첫 번째 인덱스에 원소 x를 삽입할 때\n",
        "- append(x) : 마지막 인덱스에 원소를 삽입할 때\n",
        "- 따라서, deque를 큐 자료구조로 이용할 때 => 원소를 삽입할 때 append(), 원소를 삭제할 때 popleft()를 사용한다.(먼저 들어온 원소가 항상 먼저 나감.)"
      ],
      "metadata": {
        "id": "qx8dm33z6dXp"
      }
    },
    {
      "cell_type": "code",
      "source": [
        "# 리스트[2, 3, 4]의 가장 앞쪽과 뒤쪽에 원소를 삽입하는 예시\n",
        "from collections import deque\n",
        "\n",
        "data = deque([2, 3, 4])\n",
        "data.appendleft(1)\n",
        "data.append(5)\n",
        "\n",
        "print(data)\n",
        "print(list(data))   # 리스트 자료형으로 변환"
      ],
      "metadata": {
        "colab": {
          "base_uri": "https://localhost:8080/"
        },
        "id": "RDBcnRp_5h5Q",
        "outputId": "53774163-fb60-4a26-9419-e22dd79eedc0"
      },
      "execution_count": 9,
      "outputs": [
        {
          "output_type": "stream",
          "name": "stdout",
          "text": [
            "deque([1, 2, 3, 4, 5])\n",
            "[1, 2, 3, 4, 5]\n"
          ]
        }
      ]
    },
    {
      "cell_type": "markdown",
      "source": [
        "- Counter는 등장 횟수를 세는 기능 제공.\n",
        "- iterable객체가 주어졌을 때, 해당 객체 내부의 원소가 몇 번씩 등장했는지를 알려줌.\n",
        "- 원소별 등장 횟수를 세는 기능이 필요할 때 짧은 소스코드로 이를 구현 가능"
      ],
      "metadata": {
        "id": "4IVxQrD57jrd"
      }
    },
    {
      "cell_type": "code",
      "source": [
        "from collections import Counter\n",
        "\n",
        "counter = Counter(['red', 'blue', 'red', 'green', 'blue', 'blue'])\n",
        "\n",
        "print(counter['blue'])  # 'blue'가 등장한 횟수 출력\n",
        "print(counter['green']) # 'green'이 등장한 횟수 출력\n",
        "print(dict(counter))    # 사전 자료형으로 반환"
      ],
      "metadata": {
        "colab": {
          "base_uri": "https://localhost:8080/"
        },
        "id": "tDLK-ceX7iX_",
        "outputId": "440ad73c-363d-4b63-cfdc-85005e0bedab"
      },
      "execution_count": 10,
      "outputs": [
        {
          "output_type": "stream",
          "name": "stdout",
          "text": [
            "3\n",
            "1\n",
            "{'red': 2, 'blue': 3, 'green': 1}\n"
          ]
        }
      ]
    },
    {
      "cell_type": "markdown",
      "source": [
        "### math\n",
        "- 자주 사용되는 수학적인 기능을 포함하고 있는 라이브러리\n",
        "- 팩토리얼, 제곱근, 최대공약수(GCD) 등을 계산해주는 기능 포함 => 수학 계산을 요구하는 문제를 만났을 때 효과적으로 사용가능."
      ],
      "metadata": {
        "id": "PyR0qBGo8GDW"
      }
    },
    {
      "cell_type": "code",
      "source": [
        "# math 라이브러리의 factorial(x) 함수는 x! 값을 반환한다.\n",
        "import math\n",
        "\n",
        "print(math.factorial(5))    # 5 팩토리얼을 출력"
      ],
      "metadata": {
        "colab": {
          "base_uri": "https://localhost:8080/"
        },
        "id": "xuJsSZLt8EsI",
        "outputId": "6772b629-7ef9-4d28-badc-b506519ad387"
      },
      "execution_count": 11,
      "outputs": [
        {
          "output_type": "stream",
          "name": "stdout",
          "text": [
            "120\n"
          ]
        }
      ]
    },
    {
      "cell_type": "code",
      "source": [
        "# math 라이브러리의 sqrt(x) 함수는 x의 제곱근을 반환한다.\n",
        "import math\n",
        "\n",
        "print(math.sqrt(7)) # 7의 제곱근을 출력"
      ],
      "metadata": {
        "colab": {
          "base_uri": "https://localhost:8080/"
        },
        "id": "8oegDyLq8cuN",
        "outputId": "373cf97c-e57f-420b-d490-4ac0da5626d8"
      },
      "execution_count": 12,
      "outputs": [
        {
          "output_type": "stream",
          "name": "stdout",
          "text": [
            "2.6457513110645907\n"
          ]
        }
      ]
    },
    {
      "cell_type": "code",
      "source": [
        "# 최대 공약수를 구해야 할 때는 math 라이브러리의 gcd(a, b) 함수를 이용할 수 있다. (a, b의 최대 공약수 반환)\n",
        "import math\n",
        "\n",
        "print(math.gcd(21, 14))"
      ],
      "metadata": {
        "colab": {
          "base_uri": "https://localhost:8080/"
        },
        "id": "9EPxoi3_8mkv",
        "outputId": "1d07df0d-2c9b-4330-b2e8-df8dd86086d1"
      },
      "execution_count": 13,
      "outputs": [
        {
          "output_type": "stream",
          "name": "stdout",
          "text": [
            "7\n"
          ]
        }
      ]
    },
    {
      "cell_type": "code",
      "source": [
        "# 수학 공식에서 자주 등장하는 상수가 필요할 때에도 math 라이브러리 사용 가능 (파이(pi), 자연상수(e)를 제공)\n",
        "import math\n",
        "\n",
        "print(math.pi)  # 파이(pi) 출력\n",
        "print(math.e)   # 자연상수 e 출력"
      ],
      "metadata": {
        "colab": {
          "base_uri": "https://localhost:8080/"
        },
        "id": "yMYTQGWC87Oj",
        "outputId": "cde4bd23-7ce3-4d62-be7f-9e23a1650e04"
      },
      "execution_count": 14,
      "outputs": [
        {
          "output_type": "stream",
          "name": "stdout",
          "text": [
            "3.141592653589793\n",
            "2.718281828459045\n"
          ]
        }
      ]
    },
    {
      "cell_type": "code",
      "source": [
        ""
      ],
      "metadata": {
        "id": "PQFou6Is9M0g"
      },
      "execution_count": null,
      "outputs": []
    }
  ]
}