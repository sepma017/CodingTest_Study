{
  "nbformat": 4,
  "nbformat_minor": 0,
  "metadata": {
    "colab": {
      "name": "1주차_20220315_코딩테스트.ipynb",
      "provenance": [],
      "collapsed_sections": [],
      "authorship_tag": "ABX9TyNSpzV2Fxmn/k2JyhKsqPen"
    },
    "kernelspec": {
      "name": "python3",
      "display_name": "Python 3"
    },
    "language_info": {
      "name": "python"
    }
  },
  "cells": [
    {
      "cell_type": "markdown",
      "source": [
        "리스트 컴프리헨션\n",
        "- 리스트를 초기화하는 방법 중 하나\n",
        "- 대괄호([]) 안에 조건문과 반복문을 넣는 빙식으로 리스트 초기화 가능.\n",
        "- 장점 : 한 줄의 소스코드로 리스트를 초기화할 수 있어 매우 간편하다."
      ],
      "metadata": {
        "id": "sgVpRQeEyyfp"
      }
    },
    {
      "cell_type": "code",
      "execution_count": null,
      "metadata": {
        "colab": {
          "base_uri": "https://localhost:8080/"
        },
        "id": "oVB-y4MMyD-p",
        "outputId": "73f1bed3-405e-4a68-d8fb-df75c94dcc80"
      },
      "outputs": [
        {
          "output_type": "stream",
          "name": "stdout",
          "text": [
            "[1, 3, 5, 7, 9, 11, 13, 15, 17, 19]\n"
          ]
        }
      ],
      "source": [
        "# 0부터 19까지의 수 중에서 홀수만 포함하는 리스트\n",
        "array = [i for i in range(20) if i % 2 == 1]\n",
        "\n",
        "print(array)"
      ]
    },
    {
      "cell_type": "code",
      "source": [
        "array = []\n",
        "for i in range(20):\n",
        "    if i % 2 == 1:\n",
        "        array.append(i)\n",
        "\n",
        "print(array)"
      ],
      "metadata": {
        "colab": {
          "base_uri": "https://localhost:8080/"
        },
        "id": "aOWDzfJUzStD",
        "outputId": "37c2dba7-02ed-4a50-a6e5-f67e678546a5"
      },
      "execution_count": null,
      "outputs": [
        {
          "output_type": "stream",
          "name": "stdout",
          "text": [
            "[1, 3, 5, 7, 9, 11, 13, 15, 17, 19]\n"
          ]
        }
      ]
    },
    {
      "cell_type": "code",
      "source": [
        "# 1부터 9까지의 수의 제곱 값을 포함하는 리스트\n",
        "array = [i * i for i in range(1, 10)]\n",
        "\n",
        "print(array)"
      ],
      "metadata": {
        "colab": {
          "base_uri": "https://localhost:8080/"
        },
        "id": "bpC_b-muzeN1",
        "outputId": "b742b07c-c864-4108-da54-d5a688d22571"
      },
      "execution_count": null,
      "outputs": [
        {
          "output_type": "stream",
          "name": "stdout",
          "text": [
            "[1, 4, 9, 16, 25, 36, 49, 64, 81]\n"
          ]
        }
      ]
    },
    {
      "cell_type": "code",
      "source": [
        "# N x M 크기의 2차원 리스트 초기화\n",
        "n = 3\n",
        "m = 4\n",
        "array = [[0] * m for _ in range(n)]\n",
        "print(array)"
      ],
      "metadata": {
        "colab": {
          "base_uri": "https://localhost:8080/"
        },
        "id": "iRCXNuidzsHE",
        "outputId": "9fcb8597-3414-46f6-f03b-f5fd08a2b2cc"
      },
      "execution_count": null,
      "outputs": [
        {
          "output_type": "stream",
          "name": "stdout",
          "text": [
            "[[0, 0, 0, 0], [0, 0, 0, 0], [0, 0, 0, 0]]\n"
          ]
        }
      ]
    },
    {
      "cell_type": "markdown",
      "source": [
        "- 언더바(_)의 역할\n",
        "    - 반복을 수행하되 반복을 위한 변수의 값을 무시하고자 할 때 자주 사용."
      ],
      "metadata": {
        "id": "GatuWg__z3lv"
      }
    },
    {
      "cell_type": "code",
      "source": [
        "summary = 0\n",
        "for i in range(1, 10):\n",
        "    summary += i\n",
        "print(summary)"
      ],
      "metadata": {
        "colab": {
          "base_uri": "https://localhost:8080/"
        },
        "id": "sAY7bdqQz1nj",
        "outputId": "0c5a5ecb-cbdb-460a-e36e-4f79d024272d"
      },
      "execution_count": null,
      "outputs": [
        {
          "output_type": "stream",
          "name": "stdout",
          "text": [
            "45\n"
          ]
        }
      ]
    },
    {
      "cell_type": "code",
      "source": [
        "# 'Hello World'를 5번 출력할 때 언더바(_)를 이용\n",
        "for _ in range(5):\n",
        "    print(\"Hello World\")"
      ],
      "metadata": {
        "colab": {
          "base_uri": "https://localhost:8080/"
        },
        "id": "KPFl_GdL0FVs",
        "outputId": "6a13abc3-5684-4135-8ed9-8ad6cb23c524"
      },
      "execution_count": null,
      "outputs": [
        {
          "output_type": "stream",
          "name": "stdout",
          "text": [
            "Hello World\n",
            "Hello World\n",
            "Hello World\n",
            "Hello World\n",
            "Hello World\n"
          ]
        }
      ]
    },
    {
      "cell_type": "markdown",
      "source": [
        "- 특정 크기의 2차원 리스트를 초기화할 때 반드시 리스트 컴프리헨션을 이용해야 한다."
      ],
      "metadata": {
        "id": "ynHv9QuV0WIw"
      }
    },
    {
      "cell_type": "code",
      "source": [
        "# N x M 크기의 2차원 리스트 초기화(잘못된 방법)\n",
        "n = 3\n",
        "m = 4\n",
        "array = [[0] * m] * n\n",
        "print(array)\n",
        "\n",
        "array[1][1] = 5\n",
        "print(array)"
      ],
      "metadata": {
        "colab": {
          "base_uri": "https://localhost:8080/"
        },
        "id": "mXdB5UpE0I7d",
        "outputId": "b7e8f7cc-f473-4e42-d70b-7f5c52a044ae"
      },
      "execution_count": null,
      "outputs": [
        {
          "output_type": "stream",
          "name": "stdout",
          "text": [
            "[[0, 0, 0, 0], [0, 0, 0, 0], [0, 0, 0, 0]]\n",
            "[[0, 5, 0, 0], [0, 5, 0, 0], [0, 5, 0, 0]]\n"
          ]
        }
      ]
    },
    {
      "cell_type": "markdown",
      "source": [
        "리스트 관련 기타 메서드\n",
        "- append() \n",
        "    - 변수명.append()\n",
        "    - 리스트에 원소 하나 삽입할 때 사용\n",
        "    - 시간 복잡도 : O(1)\n",
        "\n",
        "- sort()\n",
        "    - 변수명.sort() : 기본 정렬 기능으로 오름차순으로 정렬\n",
        "    - 변수명.sort(reverse=True) : 내림차순으로 정렬\n",
        "    - 시간 복잡도 : O(NlogN)\n",
        "\n",
        "- reverse() \n",
        "    - 변수명.reverse()\n",
        "    - 리스트의 원소의 순서를 모두 뒤집어 놓는다.\n",
        "    - 시간 복잡도 : O(N)\n",
        "\n",
        "- insert()\n",
        "    - 변수명.insert(삽입할 위치 인덱스. 삽입할 값)\n",
        "    - 특정한 인덱스 위치에 원소를 삽입할 때 사용\n",
        "    - 시간 복잡도 : O(N)\n",
        "\n",
        "- count()\n",
        "    - 변수명.count(특정 값)\n",
        "    - 리스트에서 특정한 값을 가지는 데이터의 개수를 셀 때 사용\n",
        "    - 시간 복잡도 : O(N)\n",
        "\n",
        "- remove()\n",
        "    - 변수명.remove(특정 값)\n",
        "    - 특정한 값을 갖는 원소를 제거하는데, 값을 가진 원소가 여러 개면 하나만 제거\n",
        "    - 시간 복잡도 : O(N)\n"
      ],
      "metadata": {
        "id": "1Ei0ixBq0sMp"
      }
    },
    {
      "cell_type": "code",
      "source": [
        "a = [1, 4, 3]\n",
        "print(\"기본 리스트: \", a)"
      ],
      "metadata": {
        "colab": {
          "base_uri": "https://localhost:8080/"
        },
        "id": "rX6dmoC20kYQ",
        "outputId": "5271c527-19e4-4dca-8bc6-ca837496d424"
      },
      "execution_count": null,
      "outputs": [
        {
          "output_type": "stream",
          "name": "stdout",
          "text": [
            "기본 리스트:  [1, 4, 3]\n"
          ]
        }
      ]
    },
    {
      "cell_type": "code",
      "source": [
        "# 리스트에 원소 삽입\n",
        "a.append(2)\n",
        "print(\"삽입: \", a)"
      ],
      "metadata": {
        "colab": {
          "base_uri": "https://localhost:8080/"
        },
        "id": "10YmpScT2vdS",
        "outputId": "6470c01a-f0c9-4485-9455-b8dd19e267b7"
      },
      "execution_count": null,
      "outputs": [
        {
          "output_type": "stream",
          "name": "stdout",
          "text": [
            "삽입:  [1, 4, 3, 2]\n"
          ]
        }
      ]
    },
    {
      "cell_type": "code",
      "source": [
        "# 오름차순 정렬\n",
        "a.sort()\n",
        "print(\"오름차순 정렬: \", a)"
      ],
      "metadata": {
        "colab": {
          "base_uri": "https://localhost:8080/"
        },
        "id": "JClo6BxL207h",
        "outputId": "df1206b3-5d89-407b-bee5-30b960241ecd"
      },
      "execution_count": null,
      "outputs": [
        {
          "output_type": "stream",
          "name": "stdout",
          "text": [
            "오름차순 정렬:  [1, 2, 3, 4]\n"
          ]
        }
      ]
    },
    {
      "cell_type": "code",
      "source": [
        "# 내림차순 정렬\n",
        "a.sort(reverse = True)\n",
        "print(\"내림차순 정렬: \", a)"
      ],
      "metadata": {
        "colab": {
          "base_uri": "https://localhost:8080/"
        },
        "id": "S44EhZ7e24-7",
        "outputId": "5b0d9473-edd2-479b-e0c4-89b563eb5d36"
      },
      "execution_count": null,
      "outputs": [
        {
          "output_type": "stream",
          "name": "stdout",
          "text": [
            "내림차순 정렬:  [4, 3, 2, 1]\n"
          ]
        }
      ]
    },
    {
      "cell_type": "code",
      "source": [
        "# 리스트 원소 뒤집기\n",
        "a.reverse()\n",
        "print(\"원소 뒤집기: \", a)"
      ],
      "metadata": {
        "colab": {
          "base_uri": "https://localhost:8080/"
        },
        "id": "m_MmR2KQ29m8",
        "outputId": "987b2208-2b79-4686-a9ae-7b511613f491"
      },
      "execution_count": null,
      "outputs": [
        {
          "output_type": "stream",
          "name": "stdout",
          "text": [
            "원소 뒤집기:  [1, 2, 3, 4]\n"
          ]
        }
      ]
    },
    {
      "cell_type": "code",
      "source": [
        "# 특정 인덱스에 데이터 추가\n",
        "a.insert(2, 3)\n",
        "print(\"인덱스 2에 3 추가: \", a)"
      ],
      "metadata": {
        "colab": {
          "base_uri": "https://localhost:8080/"
        },
        "id": "6sMKFVIy3Epo",
        "outputId": "7c21603a-f0ce-41c6-b7cf-16e85ed66253"
      },
      "execution_count": null,
      "outputs": [
        {
          "output_type": "stream",
          "name": "stdout",
          "text": [
            "인덱스 2에 3 추가:  [1, 2, 3, 3, 4]\n"
          ]
        }
      ]
    },
    {
      "cell_type": "code",
      "source": [
        "# 특정 값인 데이터 개수 세기\n",
        "print(\"값이 3인 데이터 개수: \", a.count(3))"
      ],
      "metadata": {
        "colab": {
          "base_uri": "https://localhost:8080/"
        },
        "id": "6vcJa2KK3Or_",
        "outputId": "6717f1bc-1871-4715-e58d-d7229fd7212e"
      },
      "execution_count": null,
      "outputs": [
        {
          "output_type": "stream",
          "name": "stdout",
          "text": [
            "값이 3인 데이터 개수:  2\n"
          ]
        }
      ]
    },
    {
      "cell_type": "code",
      "source": [
        "# 특정 값 데이터 삭제\n",
        "a.remove(1)\n",
        "print(\"값이 1인 데이터 삭제: \", a)"
      ],
      "metadata": {
        "colab": {
          "base_uri": "https://localhost:8080/"
        },
        "id": "ReYOR3Ad3TTO",
        "outputId": "2badab27-325f-4df9-f975-f80e1e4eb86a"
      },
      "execution_count": null,
      "outputs": [
        {
          "output_type": "stream",
          "name": "stdout",
          "text": [
            "값이 1인 데이터 삭제:  [2, 3, 3, 4]\n"
          ]
        }
      ]
    },
    {
      "cell_type": "markdown",
      "source": [
        "- insert() 함수, append(), remove() 함수 주목\n",
        "    - insert() 함수는 append() 함수보다 동작이 느리다. => 시간초과로 코딩테스트 통과 못할 수도 있다.\n",
        "    - remove() 함수도 insert() 처럼 시간복잡도 O(N)\n",
        "    - 특정한 값의 원소를 모두 제거하려면 => a에 포함된 원소를 하나씩 확인하며 그 원소가 remove_set에 포함되지 않았을 때만 리스트 변수인 result에 넣는다."
      ],
      "metadata": {
        "id": "Xz7T_kmD4JrJ"
      }
    },
    {
      "cell_type": "code",
      "source": [
        "a = [1, 2, 3, 4, 5, 5, 5]\n",
        "remove_set = [3, 5]\n",
        "\n",
        "# remove_set에 포함되지 않은 값만을 저장\n",
        "result = [i for i in a if i not in remove_set] \n",
        "print(result)"
      ],
      "metadata": {
        "colab": {
          "base_uri": "https://localhost:8080/"
        },
        "id": "9qkB2cs93YoX",
        "outputId": "a41c690f-8f31-4a5d-e785-598f1fcacb2a"
      },
      "execution_count": null,
      "outputs": [
        {
          "output_type": "stream",
          "name": "stdout",
          "text": [
            "[1, 2, 4]\n"
          ]
        }
      ]
    },
    {
      "cell_type": "markdown",
      "source": [
        "##### 문자열 자료형\n",
        "- 문자열 초기화\n",
        "    - 문자열 변수를 초기화 할때 => 큰 따옴표(\")나 작은따옴표(') 이용\n",
        "    - 백슬래시(\\)를 사용하면 큰따옴표나 작은따옴표를 문자열에 원하는 만큼 포함시킬 수 있다."
      ],
      "metadata": {
        "id": "ekvuATDP5Ngm"
      }
    },
    {
      "cell_type": "code",
      "source": [
        "data = 'Hello World'\n",
        "print(data)\n",
        "\n",
        "data = \"Don't you know \\\"Python\\\"?\"\n",
        "print(data)"
      ],
      "metadata": {
        "id": "UuUISz1g5Imq",
        "colab": {
          "base_uri": "https://localhost:8080/"
        },
        "outputId": "9e50a7fa-01d8-4d2c-8c62-2a4789852492"
      },
      "execution_count": null,
      "outputs": [
        {
          "output_type": "stream",
          "name": "stdout",
          "text": [
            "Hello World\n",
            "Don't you know \"Python\"?\n"
          ]
        }
      ]
    },
    {
      "cell_type": "markdown",
      "source": [
        "- 문자열 연산\n",
        "    - 문자열을 처리할 때 유용하게 사용가능\n",
        "    - 문자열 변수에 덧셈(+)을 이용하면 단순히 문자열이 더해져서 연결됨."
      ],
      "metadata": {
        "id": "R8iBESnyyuxN"
      }
    },
    {
      "cell_type": "code",
      "source": [
        "a = \"Hello\"\n",
        "b = \"World\"\n",
        "\n",
        "print(a + \" \" + b)"
      ],
      "metadata": {
        "colab": {
          "base_uri": "https://localhost:8080/"
        },
        "id": "3qF_m8esyn-n",
        "outputId": "75741948-1ccf-4053-e230-4916a388e875"
      },
      "execution_count": null,
      "outputs": [
        {
          "output_type": "stream",
          "name": "stdout",
          "text": [
            "Hello World\n"
          ]
        }
      ]
    },
    {
      "cell_type": "markdown",
      "source": [
        "문자열 변수를 양의 정수와 곱하면, 문자열이 그 값만큼 여러 번 더해진다."
      ],
      "metadata": {
        "id": "Nnpd0H8qzHf9"
      }
    },
    {
      "cell_type": "code",
      "source": [
        "a = \"String\"\n",
        "\n",
        "print(a * 3)"
      ],
      "metadata": {
        "colab": {
          "base_uri": "https://localhost:8080/"
        },
        "id": "Fcqm_My6zF_9",
        "outputId": "e76efc92-1f5b-48b2-80df-76755f34aed1"
      },
      "execution_count": null,
      "outputs": [
        {
          "output_type": "stream",
          "name": "stdout",
          "text": [
            "StringStringString\n"
          ]
        }
      ]
    },
    {
      "cell_type": "markdown",
      "source": [
        "파이썬의 문자열은 내부적으로 리스트와 같이 처리된다. => 문자열 데이터에 대해서도 인덱싱과 슬라이싱을 이용 할 수 있다."
      ],
      "metadata": {
        "id": "7ZVbJsz-zZer"
      }
    },
    {
      "cell_type": "code",
      "source": [
        "a = \"ABCDEF\"\n",
        "\n",
        "print(a[2:4])"
      ],
      "metadata": {
        "colab": {
          "base_uri": "https://localhost:8080/"
        },
        "id": "oG67CG44zYJl",
        "outputId": "43546af0-8568-4cf0-e3d7-190d4b3b518d"
      },
      "execution_count": null,
      "outputs": [
        {
          "output_type": "stream",
          "name": "stdout",
          "text": [
            "CD\n"
          ]
        }
      ]
    },
    {
      "cell_type": "code",
      "source": [
        ""
      ],
      "metadata": {
        "id": "ZsvSTxwwzxBt"
      },
      "execution_count": null,
      "outputs": []
    }
  ]
}