{
  "nbformat": 4,
  "nbformat_minor": 0,
  "metadata": {
    "colab": {
      "name": "1주차_20220317_코딩테스트.ipynb",
      "provenance": [],
      "collapsed_sections": [],
      "authorship_tag": "ABX9TyMOhBwEVBSRHJg9z2ZjbF63"
    },
    "kernelspec": {
      "name": "python3",
      "display_name": "Python 3"
    },
    "language_info": {
      "name": "python"
    }
  },
  "cells": [
    {
      "cell_type": "markdown",
      "source": [
        "# 조건문\n",
        "- 프로그램을 작성할 때 프로그램의 흐름을 제어하는 문법.\n",
        "- 조건문을 이용하면 조건에 따라 프로그램의 로직을 설정할 수 있다."
      ],
      "metadata": {
        "id": "ogY8Pxg_qnNe"
      }
    },
    {
      "cell_type": "code",
      "execution_count": null,
      "metadata": {
        "colab": {
          "base_uri": "https://localhost:8080/"
        },
        "id": "yb_AmEZRp_lu",
        "outputId": "16bf4b41-3e7b-42a7-9f2f-6798558bc78f"
      },
      "outputs": [
        {
          "output_type": "stream",
          "name": "stdout",
          "text": [
            "15\n"
          ]
        }
      ],
      "source": [
        "# 어떤 변수의 값이 10 이상일 때에 한에서만, 변수값을 출력하는 예시\n",
        "x = 15\n",
        "\n",
        "if x >= 10:\n",
        "    print(x)"
      ]
    },
    {
      "cell_type": "markdown",
      "source": [
        "- 파이썬에서 조건문 작성할 때 => **if ~ elif ~ else** 이용\n",
        "- 경우에 따라 elif 혹은 else 부분을 사용하지 않아도 된다."
      ],
      "metadata": {
        "id": "OqNHJIdUq-3T"
      }
    },
    {
      "cell_type": "markdown",
      "source": [
        "```\n",
        "if 조건문 1:\n",
        "    조건문 1이 True일 때 실행되는 코드\n",
        "elif 조건문 2:\n",
        "    조건문 1에 해당하지 않고, 조건문 2가 True일 때 실행되는 코드\n",
        "else:\n",
        "    위의 모든 조건문이 모두 True 값이 아닐 때 실행되는 코드\n",
        "```"
      ],
      "metadata": {
        "id": "jFVGS7jtrS8p"
      }
    },
    {
      "cell_type": "code",
      "source": [
        "# 성적 구간에 따른 학점 정보 출력\n",
        "# 성적이 90점 이상일 때: A\n",
        "# 성적이 90점 미만, 80점 이상일 때: B\n",
        "# 성적이 80점 미만, 70점 이상일 때: C\n",
        "# 성적이 70점 미만일 때: F\n",
        "\n",
        "score = 85\n",
        "\n",
        "if score >= 90:\n",
        "    print(\"학점: A\")\n",
        "elif score >= 80:\n",
        "    print(\"학점: B\")\n",
        "elif score >= 70:\n",
        "    print(\"학점: C\")\n",
        "else:\n",
        "    print(\"학점: F\")"
      ],
      "metadata": {
        "colab": {
          "base_uri": "https://localhost:8080/"
        },
        "id": "sOY7H4g-q48u",
        "outputId": "20f26690-a0de-4e28-c8d5-5eb24d792648"
      },
      "execution_count": null,
      "outputs": [
        {
          "output_type": "stream",
          "name": "stdout",
          "text": [
            "학점: B\n"
          ]
        }
      ]
    },
    {
      "cell_type": "markdown",
      "source": [
        "- 조건문 작성 시 코드의 블록(Block)을 들여쓰기로 설정한다. 들여쓰기가 같은 부분은 함께 실행된다."
      ],
      "metadata": {
        "id": "-h9VsvS9scWe"
      }
    },
    {
      "cell_type": "code",
      "source": [
        "score = 85\n",
        "\n",
        "if score >= 70:\n",
        "    print('성적이 70점 이상입니다.')\n",
        "    if score >= 90:\n",
        "        print('우수한 성적입니다.')\n",
        "else:\n",
        "    print('성적이 70점 미만입니다.')\n",
        "    print('조금 더 분발하세요.')\n",
        "\n",
        "print('프로그램을 종료합니다.')"
      ],
      "metadata": {
        "colab": {
          "base_uri": "https://localhost:8080/"
        },
        "id": "9MChkotEsB1J",
        "outputId": "87e2bcf5-26a5-4353-8ddf-0127e8792ee5"
      },
      "execution_count": null,
      "outputs": [
        {
          "output_type": "stream",
          "name": "stdout",
          "text": [
            "성적이 70점 이상입니다.\n",
            "프로그램을 종료합니다.\n"
          ]
        }
      ]
    },
    {
      "cell_type": "markdown",
      "source": [
        "- 파이썬에서 들여쓰기는 스페이스 바(Space Bar)를 4번 입력하여 작성한다.\n",
        "- 탭(Tap)을 이용해도 돼나, 이왕이면 띄어쓰기 4번으로 할 수 있도록 습관을 들인다."
      ],
      "metadata": {
        "id": "BDH-ln_guoSN"
      }
    },
    {
      "cell_type": "markdown",
      "source": [
        "### 비교 연산자\n",
        "- 조건문에는 비교 연산자를 자주 사용한다.\n",
        "- 비교 연산은 특정한 두 값을 비교할 때 이용할 수 있다."
      ],
      "metadata": {
        "id": "q1xmW3qyu3gs"
      }
    },
    {
      "cell_type": "markdown",
      "source": [
        "- **X == Y** : X와 Y가 서로 같을 때 참(True)\n",
        "- **X != Y** : X와 Y가 서로 다를 때 참(True)\n",
        "- **X > Y** :  X가 Y보다 클 때 참(True) \n",
        "- **X < Y** :  X가 Y보다 작을 때 참(True)\n",
        "- **X >= Y** : X가 Y보다 크거나 같을 때 참(True)\n",
        "- **X <= Y** : X가 Y보다 작거나 같을 때 참(True)"
      ],
      "metadata": {
        "id": "pXkBVMRcvMpk"
      }
    },
    {
      "cell_type": "markdown",
      "source": [
        "### 논리 연산자\n",
        "- 논리 연산자는 2개의 논래 값 사이의 연산을 수행할 때 사용하는데 파이썬에는 3가지 논리 연산자(Logical Operators)가 있다.\n",
        "- 예) '학생 A가 남자이면서 성적이 90점 이상이인지' 판단할 경우, '학생 A의 성별 == 남자 and 학생 A의 성적 >= 90'\n",
        "- 만약 학생 A의 성별이 남자이고 성적이 90점 이상이면 'True and True'가 되므로 결과는 'True'\n"
      ],
      "metadata": {
        "id": "x38kxQvwwE6O"
      }
    },
    {
      "cell_type": "markdown",
      "source": [
        "- **X and Y** : X와 Y가 모두 참(True)일 때 참(True)\n",
        "- **X or Y**  : X와 Y 중에 하나만 참(True)이어도 참(True)\n",
        "- **not X**   : X가 거짓(False)일 때 참(True)"
      ],
      "metadata": {
        "id": "OOSTYhyiw1LO"
      }
    },
    {
      "cell_type": "markdown",
      "source": [
        "### 파이썬의 기타 연산자\n",
        "- **in 연산자**, **not in 연산자**"
      ],
      "metadata": {
        "id": "zfLYJu-CxOyB"
      }
    },
    {
      "cell_type": "markdown",
      "source": [
        "- **X in 리스트** : 리스트 안에 X가 들어가 있을 때 참(True)\n",
        "- **X not in 문자열** : 문자열 안에 X가 들어가 있지 않을 때 참(True)"
      ],
      "metadata": {
        "id": "QCdj6i3Sdri3"
      }
    },
    {
      "cell_type": "markdown",
      "source": [
        "- 파이썬에서 조건문의 값이 참(True)라고 해도, 아무서도 처리하고 싶지 않을 때 pass문을 이용할 수 있다.\n",
        "- 예) 코드를 작성하면서 디버깅하는 과정에서 일단 조건문의 형태만 만들어 놓고 조건문을 처리하는 부분은 비워놓고 싶을 때 "
      ],
      "metadata": {
        "id": "h-Iap39Od9sr"
      }
    },
    {
      "cell_type": "code",
      "source": [
        "score = 85\n",
        "\n",
        "if score >= 80:\n",
        "    pass # 나중에 작성할 소스코드\n",
        "else:\n",
        "    print('성적이 80점 미만입니다.')\n",
        "\n",
        "print('프로그램을 종료합니다.')"
      ],
      "metadata": {
        "id": "MCupIe3xs5Iw",
        "colab": {
          "base_uri": "https://localhost:8080/"
        },
        "outputId": "051a671f-a93e-4fff-daa6-f71c26ee2405"
      },
      "execution_count": 1,
      "outputs": [
        {
          "output_type": "stream",
          "name": "stdout",
          "text": [
            "프로그램을 종료합니다.\n"
          ]
        }
      ]
    },
    {
      "cell_type": "markdown",
      "source": [
        "- 조건문에서 실행될 소스코드가 한 줄인 경우, 굳이 줄 바꿈을 하지 않고도 간략하게 표현할 수 있다."
      ],
      "metadata": {
        "id": "AfyxV7_Ie7S4"
      }
    },
    {
      "cell_type": "code",
      "source": [
        "score = 85\n",
        "\n",
        "if score >= 80:\n",
        "    result = \"Success\"\n",
        "else:\n",
        "    result = \"Fail\"\n",
        "\n",
        "print(result)"
      ],
      "metadata": {
        "colab": {
          "base_uri": "https://localhost:8080/"
        },
        "id": "0lpELrfzexL6",
        "outputId": "4fbff390-c4cf-4cc2-9665-c0ef46ec6e8a"
      },
      "execution_count": 3,
      "outputs": [
        {
          "output_type": "stream",
          "name": "stdout",
          "text": [
            "Success\n"
          ]
        }
      ]
    },
    {
      "cell_type": "markdown",
      "source": [
        "- 조건부 표현식(Conditional Expression)을 이용하면 if ~ else문을 한 줄에 작성해 사용할 수 있다."
      ],
      "metadata": {
        "id": "0xm6D1JbfKEF"
      }
    },
    {
      "cell_type": "code",
      "source": [
        "score = 85\n",
        "result = \"Sucess\" if score >= 80 else \"Fail\"\n",
        "\n",
        "print(result)"
      ],
      "metadata": {
        "colab": {
          "base_uri": "https://localhost:8080/"
        },
        "id": "dz8qlPvgfFxq",
        "outputId": "19a41174-ab3c-4fd0-8518-99ec91f862b2"
      },
      "execution_count": 4,
      "outputs": [
        {
          "output_type": "stream",
          "name": "stdout",
          "text": [
            "Sucess\n"
          ]
        }
      ]
    },
    {
      "cell_type": "markdown",
      "source": [
        "- 특히 조건부 표현식은 리스트에 있는 원소의 값을 변경해서, 또 다른 리스트를 만들고자 할 때 매우 간결하게 사용할 수 있다."
      ],
      "metadata": {
        "id": "GwEj8ekXf2hf"
      }
    },
    {
      "cell_type": "code",
      "source": [
        "# 일반적인 형태\n",
        "a = [1, 2, 3, 4, 5, 5, 5]\n",
        "remove_set = {3, 5}\n",
        "\n",
        "result = []\n",
        "for i in a:\n",
        "    if i not in remove_set:\n",
        "        result.append(i)\n",
        "\n",
        "print(result)"
      ],
      "metadata": {
        "colab": {
          "base_uri": "https://localhost:8080/"
        },
        "id": "FV7NTxQcfz_D",
        "outputId": "9b439670-7c0f-40f9-93f8-45c567b10ac6"
      },
      "execution_count": 6,
      "outputs": [
        {
          "output_type": "stream",
          "name": "stdout",
          "text": [
            "[1, 2, 4]\n"
          ]
        }
      ]
    },
    {
      "cell_type": "code",
      "source": [
        "# 조건문을 이용한 간단한 코드\n",
        "a = [1, 2, 3, 4, 5, 5, 5]\n",
        "remove_set = {3, 5}\n",
        "\n",
        "result = [i for i in a if i not in remove_set]\n",
        "\n",
        "print(result)"
      ],
      "metadata": {
        "colab": {
          "base_uri": "https://localhost:8080/"
        },
        "id": "flSya6x7gH1P",
        "outputId": "8cb926c2-b521-444e-c70c-aeed357a26dd"
      },
      "execution_count": 7,
      "outputs": [
        {
          "output_type": "stream",
          "name": "stdout",
          "text": [
            "[1, 2, 4]\n"
          ]
        }
      ]
    },
    {
      "cell_type": "markdown",
      "source": [
        "- 파이썬 조건문 내에서의 부등식\n",
        "    - 파이썬은 조건문 안에서 수학의 부등식을 그대로 사용할 수 있다.\n",
        "    - 예) x > 0 and x < 20 또는 0 < x < 20\n",
        "    - 다른 언어에서는 비교 연산자 사이에 and, or 등의 산자가 들어간 형태만 사용가능"
      ],
      "metadata": {
        "id": "wbzPg4RFgztp"
      }
    },
    {
      "cell_type": "code",
      "source": [
        "# x > 0 and x < 20\n",
        "\n",
        "x = 15\n",
        "if x > 0 and x < 20:\n",
        "    print(\"x는 0 이상 20 미만의 수입니다.\")"
      ],
      "metadata": {
        "colab": {
          "base_uri": "https://localhost:8080/"
        },
        "id": "a224WP_mgxkY",
        "outputId": "4078438b-e9dc-4b99-82d4-66e130d83f87"
      },
      "execution_count": 8,
      "outputs": [
        {
          "output_type": "stream",
          "name": "stdout",
          "text": [
            "x는 0 이상 20 미만의 수입니다.\n"
          ]
        }
      ]
    },
    {
      "cell_type": "code",
      "source": [
        "# 0 < x < 20\n",
        "\n",
        "x = 15\n",
        "if 0 < x < 20:\n",
        "    print(\"x는 0이상 20 미만의 수입니다.\")"
      ],
      "metadata": {
        "colab": {
          "base_uri": "https://localhost:8080/"
        },
        "id": "u_eyp91FhbN4",
        "outputId": "8e97be9d-da03-43b5-9a4b-90db3eedf3d1"
      },
      "execution_count": 9,
      "outputs": [
        {
          "output_type": "stream",
          "name": "stdout",
          "text": [
            "x는 0이상 20 미만의 수입니다.\n"
          ]
        }
      ]
    },
    {
      "cell_type": "code",
      "source": [
        ""
      ],
      "metadata": {
        "id": "dUV4LAughnoW"
      },
      "execution_count": null,
      "outputs": []
    }
  ]
}