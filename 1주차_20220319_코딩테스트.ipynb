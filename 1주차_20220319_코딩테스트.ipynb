{
  "nbformat": 4,
  "nbformat_minor": 0,
  "metadata": {
    "colab": {
      "name": "1주차_20220319_코딩테스트.ipynb",
      "provenance": [],
      "authorship_tag": "ABX9TyO4N5dfU24QCuxnFcRBfCXA"
    },
    "kernelspec": {
      "name": "python3",
      "display_name": "Python 3"
    },
    "language_info": {
      "name": "python"
    }
  },
  "cells": [
    {
      "cell_type": "markdown",
      "source": [
        "# 입출력\n",
        "- 알고리즘 문제 풀이의 첫번째 단계 => 데이터 입력받기\n",
        "- 알고리즘 문제는 적절한 입력이 주어졌을 때, 입력받아서 적절한 알고리즘을 수행한 뒤의 결과를 출력할 것을 요구\n",
        "- 예\n",
        "```\n",
        "입력 예시\n",
        "5\n",
        "65 90 75 34 99\n",
        "```\n",
        "```\n",
        "출력 예시\n",
        "99 90 75 65 34\n",
        "```\n",
        "- 입력받을 때 => **input()** 이용\n",
        "- 입력받은 데이터를 정수형 데이터로 처리하려면 => **int()** 함수 사용\n",
        "- 여러 개의 데이터를 입력받을 때 데이터가 공백으로 구분될 경우, 문자열을 띄어쓰기로 구분하여 각각 정수 자료형 데이터로 저장할 때 => **list(map(int, input().split()))** 이용\n",
        "- **list(map(int, input().split()))** : input()으로 입력받음 -> split()으로 공백 나눔 -> map으로 모든 원소에 int() 함수 적용 -> list()로 바꿈"
      ],
      "metadata": {
        "id": "hRkzBkDHZthz"
      }
    },
    {
      "cell_type": "code",
      "execution_count": 1,
      "metadata": {
        "colab": {
          "base_uri": "https://localhost:8080/"
        },
        "id": "Mu-GB0ViZoxZ",
        "outputId": "cc8a1735-f9a6-4fce-8ed2-53e60d62404b"
      },
      "outputs": [
        {
          "output_type": "stream",
          "name": "stdout",
          "text": [
            "5\n",
            "65 90 75 34 99\n",
            "[99, 90, 75, 65, 34]\n"
          ]
        }
      ],
      "source": [
        "# 입력을 위한 전형적인 소스코드\n",
        "n = int(input())    # 데이터의 개수 입력\n",
        "data = list(map(int, input().split()))  # 각 데이터를 공백으로 구분하여 입력\n",
        "\n",
        "data.sort(reverse = True)\n",
        "print(data)"
      ]
    },
    {
      "cell_type": "markdown",
      "source": [
        "- 공백으로 구분된 데이터의 개수가 많지 않다면 => **map(int, input().split())** 이용"
      ],
      "metadata": {
        "id": "PXIWB-u3cb0Q"
      }
    },
    {
      "cell_type": "code",
      "source": [
        "# 공백을 기준으로 구분하여 적은 수의 데이터 입력\n",
        "n, m, k = map(int, input().split()) # n, m, k를 공백으로 구분하여 입력\n",
        "\n",
        "print(n, m, k)"
      ],
      "metadata": {
        "colab": {
          "base_uri": "https://localhost:8080/"
        },
        "id": "6VW4tUCKcHRU",
        "outputId": "1a59fb6b-1d38-4d04-a43e-9e13dd62d6a8"
      },
      "execution_count": 2,
      "outputs": [
        {
          "output_type": "stream",
          "name": "stdout",
          "text": [
            "3 5 7\n",
            "3 5 7\n"
          ]
        }
      ]
    },
    {
      "cell_type": "markdown",
      "source": [
        "- 정렬, 이진 탐색, 최단 경로 문제 => 입력을 최대한 빠르게 받아야 할 경우, 많은 데이터가 연속적으로 입력되기도 함 (입력받는 것에도 시간 초과)\n",
        "- 이 경우, input()함수를 그대로 사용하지 않는다. \n",
        "- **sys** 라이브러리 사용\n",
        "```\n",
        "import sys\n",
        "sys.stdin.readline().rstrip()\n",
        "```\n",
        "- sys 라이브러리 사용 시, 한 줄 입력받고 **rstrip()** 함수를 꼭 호출해야 한다.\n",
        "- readline()으로 입력하면 입력 후 엔터(enter)가 줄 바꿈 기호로 입력됨 => 이때 공백문자 제거할 rstrip() 사용"
      ],
      "metadata": {
        "id": "mVpsDWhdc0ev"
      }
    },
    {
      "cell_type": "code",
      "source": [
        "# readline() 사용 소스코드 예시\n",
        "import sys \n",
        "\n",
        "data = sys.stdin.readline().rstrip()   # 문자열 입력받기\n",
        "print(data)"
      ],
      "metadata": {
        "colab": {
          "base_uri": "https://localhost:8080/"
        },
        "id": "nCxA4dKHcufX",
        "outputId": "cb4b98ca-8f95-4435-a011-7a4c4aea984e"
      },
      "execution_count": 4,
      "outputs": [
        {
          "output_type": "stream",
          "name": "stdout",
          "text": [
            "\n"
          ]
        }
      ]
    },
    {
      "cell_type": "markdown",
      "source": [
        "- **print()** : 출력\n",
        "- print()는 각 변수를 콤마(,)로 구분하여 매개변수를 넣는다. (출력 시 각 변수가 띄어쓰기로 구분됨)"
      ],
      "metadata": {
        "id": "Y6hbFg7OeSXX"
      }
    },
    {
      "cell_type": "code",
      "source": [
        "# 변수 출력 예시\n",
        "a = 1   # a, b는 출력할 변수들\n",
        "b = 2\n",
        "\n",
        "print(a, b)"
      ],
      "metadata": {
        "colab": {
          "base_uri": "https://localhost:8080/"
        },
        "id": "iLnSWltKeIcf",
        "outputId": "34083bb3-299f-40a9-c6e4-ca3576fd70ec"
      },
      "execution_count": 6,
      "outputs": [
        {
          "output_type": "stream",
          "name": "stdout",
          "text": [
            "1 2\n"
          ]
        }
      ]
    },
    {
      "cell_type": "markdown",
      "source": [
        "- print()는 출력 이후 줄 바꿈 수행"
      ],
      "metadata": {
        "id": "_b4qV0cZewO2"
      }
    },
    {
      "cell_type": "code",
      "source": [
        "# 출력 줄 바꿈 예시\n",
        "a = 1   # a, b는 출력할 변수들\n",
        "b = 2\n",
        "\n",
        "print(a)\n",
        "print(b)"
      ],
      "metadata": {
        "colab": {
          "base_uri": "https://localhost:8080/"
        },
        "id": "qs4-YS2Aeuu8",
        "outputId": "f179ab69-659a-4743-f0e5-4a653b8ad5a3"
      },
      "execution_count": 8,
      "outputs": [
        {
          "output_type": "stream",
          "name": "stdout",
          "text": [
            "1\n",
            "2\n"
          ]
        }
      ]
    },
    {
      "cell_type": "markdown",
      "source": [
        "- 출력 시 문자열과 수를 함께 출력해야 되는 경우 => 더하기(+)를 이용하면 오류!"
      ],
      "metadata": {
        "id": "wGRiUVqbfMW1"
      }
    },
    {
      "cell_type": "code",
      "source": [
        "# 출력 시 오류가 발생하는 소소코드 예시\n",
        "answer = 7  # 출력할 변수들\n",
        "\n",
        "print(\"정답은\" + answer + \"입니다.\")"
      ],
      "metadata": {
        "colab": {
          "base_uri": "https://localhost:8080/",
          "height": 211
        },
        "id": "Dk3xlXUxfGXi",
        "outputId": "80271b7b-b59e-41f4-b57f-2e0bfabd590b"
      },
      "execution_count": 9,
      "outputs": [
        {
          "output_type": "error",
          "ename": "TypeError",
          "evalue": "ignored",
          "traceback": [
            "\u001b[0;31m---------------------------------------------------------------------------\u001b[0m",
            "\u001b[0;31mTypeError\u001b[0m                                 Traceback (most recent call last)",
            "\u001b[0;32m<ipython-input-9-d3b05707d24a>\u001b[0m in \u001b[0;36m<module>\u001b[0;34m()\u001b[0m\n\u001b[1;32m      2\u001b[0m \u001b[0manswer\u001b[0m \u001b[0;34m=\u001b[0m \u001b[0;36m7\u001b[0m  \u001b[0;31m# 출력할 변수들\u001b[0m\u001b[0;34m\u001b[0m\u001b[0;34m\u001b[0m\u001b[0m\n\u001b[1;32m      3\u001b[0m \u001b[0;34m\u001b[0m\u001b[0m\n\u001b[0;32m----> 4\u001b[0;31m \u001b[0mprint\u001b[0m\u001b[0;34m(\u001b[0m\u001b[0;34m\"정답은\"\u001b[0m \u001b[0;34m+\u001b[0m \u001b[0manswer\u001b[0m \u001b[0;34m+\u001b[0m \u001b[0;34m\"입니다.\"\u001b[0m\u001b[0;34m)\u001b[0m\u001b[0;34m\u001b[0m\u001b[0;34m\u001b[0m\u001b[0m\n\u001b[0m",
            "\u001b[0;31mTypeError\u001b[0m: can only concatenate str (not \"int\") to str"
          ]
        }
      ]
    },
    {
      "cell_type": "markdown",
      "source": [
        "- 문자열 자료형끼리만 더하기 연산 가능\n",
        "- 해결 방법\n",
        "    - 1) **str()**함수를 이용 => 변수 데이터를 문자로 바꿔줌\n",
        "    - 2) 각 자료형을 **콤마(,)**를 기준으로 구분하여 출력\n",
        "- 참고: 자바 등 일부 프로그래밍 언어에서는 문자열 + 수도 가능"
      ],
      "metadata": {
        "id": "8fDXERoSfnpb"
      }
    },
    {
      "cell_type": "code",
      "source": [
        "# 변수를 문자열로 바꾸어 출력하는 소스코드 예시\n",
        "answer = 7  # 출력할 변수들 \n",
        "\n",
        "print(\"정답은 \" + str(answer) + \"입니다.\")"
      ],
      "metadata": {
        "colab": {
          "base_uri": "https://localhost:8080/"
        },
        "id": "qEJG_CEhfltg",
        "outputId": "e70e3ada-ecc8-4651-f1d6-ceb77e74df6a"
      },
      "execution_count": 12,
      "outputs": [
        {
          "output_type": "stream",
          "name": "stdout",
          "text": [
            "정답은 7입니다.\n"
          ]
        }
      ]
    },
    {
      "cell_type": "code",
      "source": [
        "# 각 변수를 콤마(,)로 구분하여 출력하는 소스코드 예시\n",
        "answer = 7  # 출력할 변수들\n",
        "print(\"정답은\", str(answer), \"입니다.\")"
      ],
      "metadata": {
        "colab": {
          "base_uri": "https://localhost:8080/"
        },
        "id": "oh2PpT4BgQcC",
        "outputId": "7e1bc6d7-e2f8-4d87-8196-b57a00b1ae09"
      },
      "execution_count": 11,
      "outputs": [
        {
          "output_type": "stream",
          "name": "stdout",
          "text": [
            "정답은 7 입니다.\n"
          ]
        }
      ]
    },
    {
      "cell_type": "markdown",
      "source": [
        "- 각 변수를 콤마로 구분하여 출력할 경우, 변수의 값 사이에 의도치 않은 공백이 삽입될 수 있음.\n",
        "- Python 3.6이상의 버전부터는 f-string문법 사용가능\n",
        "- f-string : 문자열 앞에 접두사 'f'를 붙임으로써 사용가능.\n",
        "- f-string 이용하면 중괄호({})안에 변수를 넣음으로써, 자료형의 변환 없이도 간단히 문자열과 정수를 함께 넣을 수 있다."
      ],
      "metadata": {
        "id": "IwzmwQnMgd5H"
      }
    },
    {
      "cell_type": "code",
      "source": [
        "answer = 7\n",
        "print(f\"정답은 {answer}입니다.\")"
      ],
      "metadata": {
        "colab": {
          "base_uri": "https://localhost:8080/"
        },
        "id": "tWFjIDLBgaNC",
        "outputId": "a91e03ab-66d6-4eaa-a239-32499848fd79"
      },
      "execution_count": 13,
      "outputs": [
        {
          "output_type": "stream",
          "name": "stdout",
          "text": [
            "정답은 7입니다.\n"
          ]
        }
      ]
    },
    {
      "cell_type": "code",
      "source": [
        ""
      ],
      "metadata": {
        "id": "EzmNcWDEg6Vn"
      },
      "execution_count": null,
      "outputs": []
    }
  ]
}